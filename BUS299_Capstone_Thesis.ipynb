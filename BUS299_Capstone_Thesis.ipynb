{
  "nbformat": 4,
  "nbformat_minor": 0,
  "metadata": {
    "colab": {
      "provenance": []
    },
    "kernelspec": {
      "name": "python3",
      "display_name": "Python 3"
    },
    "language_info": {
      "name": "python"
    }
  },
  "cells": [
    {
      "cell_type": "code",
      "metadata": {
        "id": "W6-AyHXAbvM3",
        "colab": {
          "base_uri": "https://localhost:8080/"
        },
        "outputId": "71833423-ae53-408c-91d6-65468c637c1d"
      },
      "source": [
        "import numpy as np\n",
        "import pandas as pd\n",
        "import matplotlib.pyplot as plt\n",
        "import seaborn as sns\n",
        "from sklearn.preprocessing import StandardScaler\n",
        "from statsmodels.discrete.discrete_model import Logit\n",
        "from sklearn.metrics import roc_auc_score\n",
        "from sklearn.model_selection import train_test_split, GridSearchCV,cross_val_score\n",
        "import statsmodels.tools as sm\n",
        "from sklearn.metrics import accuracy_score, recall_score, roc_auc_score\n",
        "from sklearn.linear_model import LogisticRegression\n",
        "from sklearn.tree import DecisionTreeClassifier,export_graphviz\n",
        "\n",
        "import pandas as pd\n",
        "import matplotlib.pyplot as plt\n",
        "import numpy as np\n",
        "from statsmodels.formula.api import ols #for linear regression\n",
        "import seaborn as sns #for heatmap\n",
        "import statsmodels.api as sm\n",
        "from scipy import stats\n",
        "from sklearn.metrics import r2_score #R-squared\n",
        "from sklearn.model_selection import train_test_split #for train and test split\n",
        "from statsmodels.api import qqplot\n",
        "from scipy.stats import shapiro,ttest_ind\n",
        "from statsmodels.stats.diagnostic import het_breuschpagan,linear_rainbow\n",
        "from sklearn import linear_model\n",
        "from statsmodels.stats.outliers_influence import variance_inflation_factor\n",
        "\n",
        "import pandas as pd\n",
        "import matplotlib.pyplot as plt\n",
        "import numpy as np\n",
        "from statsmodels.formula.api import ols #for linear regression\n",
        "import seaborn as sns #for heatmap\n",
        "import statsmodels.api as sm\n",
        "from scipy import stats\n",
        "from sklearn.metrics import r2_score #R-squared\n",
        "from sklearn.model_selection import train_test_split #for train and test split\n",
        "from statsmodels.api import qqplot\n",
        "from scipy.stats import shapiro,ttest_ind\n",
        "from statsmodels.stats.diagnostic import het_breuschpagan,linear_rainbow\n",
        "from sklearn import linear_model\n",
        "\n",
        "from sklearn.metrics import *\n",
        "from sklearn.linear_model import LinearRegression\n",
        "from sklearn.tree import DecisionTreeRegressor\n",
        "from sklearn.ensemble import RandomForestRegressor\n",
        "from sklearn.model_selection import train_test_split, GridSearchCV,cross_val_score\n",
        "from sklearn.metrics import mean_squared_error\n",
        "from sklearn.metrics import r2_score\n",
        "from sklearn.metrics import mean_absolute_error\n",
        "import statsmodels.api as sm\n",
        "from scipy import stats"
      ],
      "execution_count": null,
      "outputs": [
        {
          "output_type": "stream",
          "text": [
            "/usr/local/lib/python3.7/dist-packages/statsmodels/tools/_testing.py:19: FutureWarning: pandas.util.testing is deprecated. Use the functions in the public API at pandas.testing instead.\n",
            "  import pandas.util.testing as tm\n"
          ],
          "name": "stderr"
        }
      ]
    },
    {
      "cell_type": "code",
      "metadata": {
        "id": "IemtOwShb4Bp"
      },
      "source": [
        "data_eng = pd.read_excel(\"thesis_english.xlsx\")"
      ],
      "execution_count": null,
      "outputs": []
    },
    {
      "cell_type": "code",
      "metadata": {
        "colab": {
          "base_uri": "https://localhost:8080/"
        },
        "id": "pcEfG-Gjr1RI",
        "outputId": "a4132774-042d-4ccb-ba15-35ceb0d87feb"
      },
      "source": [
        "data_eng.info()"
      ],
      "execution_count": null,
      "outputs": [
        {
          "output_type": "stream",
          "text": [
            "<class 'pandas.core.frame.DataFrame'>\n",
            "RangeIndex: 148 entries, 0 to 147\n",
            "Data columns (total 48 columns):\n",
            " #   Column                Non-Null Count  Dtype \n",
            "---  ------                --------------  ----- \n",
            " 0   SUPERMARKET_ATT       148 non-null    object\n",
            " 1   SCENT_T               140 non-null    object\n",
            " 2   TEMPERATURE_T         140 non-null    object\n",
            " 3   MUSIC_T               140 non-null    object\n",
            " 4   LIGHTING_T            140 non-null    object\n",
            " 5   FLOORING_T            140 non-null    object\n",
            " 6   CLEANLINESS_T         140 non-null    object\n",
            " 7   PERSONNEL_T           140 non-null    object\n",
            " 8   THEME_T               140 non-null    object\n",
            " 9   SCENT_CH              140 non-null    object\n",
            " 10  TEMPERATURE_CH        140 non-null    object\n",
            " 11  MUSIC_CH              140 non-null    object\n",
            " 12  LIGHTING_CH           140 non-null    object\n",
            " 13  FLOORING_CH           140 non-null    object\n",
            " 14  CLEANLINESS_CH        140 non-null    object\n",
            " 15  PERSONNEL_CH          140 non-null    object\n",
            " 16  THEME_CH              140 non-null    object\n",
            " 17  TIME_SPENT            140 non-null    object\n",
            " 18  BROAD_AISLES_MO       140 non-null    object\n",
            " 19  COLOR_CODED_PROD_MO   140 non-null    object\n",
            " 20  MERCHANDISE_GROUP_MO  140 non-null    object\n",
            " 21  PRICE_TAGS_MO         140 non-null    object\n",
            " 22  CASH_DESKS_MO         140 non-null    object\n",
            " 23  FRONT_DISPLAY_MO      140 non-null    object\n",
            " 24  FLOOR_SPACE_MO        140 non-null    object\n",
            " 25  BROAD_AISLES_CH       140 non-null    object\n",
            " 26  COLOR_CODED_PROD_CH   140 non-null    object\n",
            " 27  MERCHANDISE_GROUP_CH  140 non-null    object\n",
            " 28  PRICE_TAGS_CH         140 non-null    object\n",
            " 29  CASH_DESKS_CH         140 non-null    object\n",
            " 30  FRONT_DISPLAY_CH      140 non-null    object\n",
            " 31  FLOOR_SPACE_CH        140 non-null    object\n",
            " 32  EXCITEMENT            46 non-null     object\n",
            " 33  CONFIDENCE            36 non-null     object\n",
            " 34  SATISFACTION          90 non-null     object\n",
            " 35  HARMONY               31 non-null     object\n",
            " 36  HUNGER                55 non-null     object\n",
            " 37  SADNESS               10 non-null     object\n",
            " 38  TIREDNESS             38 non-null     object\n",
            " 39  ANGER                 11 non-null     object\n",
            " 40  OTHER                 12 non-null     object\n",
            " 41  GENDER                148 non-null    object\n",
            " 42  AGE                   148 non-null    object\n",
            " 43  EDUC_LVL              148 non-null    object\n",
            " 44  AREA                  148 non-null    object\n",
            " 45  MRITAL_STATUS         148 non-null    object\n",
            " 46  ECON_CHAR             148 non-null    object\n",
            " 47  MONTH_INCOME          148 non-null    object\n",
            "dtypes: object(48)\n",
            "memory usage: 55.6+ KB\n"
          ],
          "name": "stdout"
        }
      ]
    },
    {
      "cell_type": "code",
      "metadata": {
        "id": "KtU3m6RRr3Bi"
      },
      "source": [
        "data_eng['SUPERMARKET_ATT'] = np.where(data_eng['SUPERMARKET_ATT']=='Yes',1,0)"
      ],
      "execution_count": null,
      "outputs": []
    },
    {
      "cell_type": "code",
      "metadata": {
        "id": "d9i60yiNFRlC"
      },
      "source": [
        "data_eng.drop('OTHER',axis='columns', inplace=True)"
      ],
      "execution_count": null,
      "outputs": []
    },
    {
      "cell_type": "code",
      "metadata": {
        "colab": {
          "base_uri": "https://localhost:8080/",
          "height": 326
        },
        "id": "WaBopl88tXgU",
        "outputId": "0985904d-9f5e-402f-a17a-d07658579d73"
      },
      "source": [
        "data_eng.head()"
      ],
      "execution_count": null,
      "outputs": [
        {
          "output_type": "execute_result",
          "data": {
            "text/html": [
              "<div>\n",
              "<style scoped>\n",
              "    .dataframe tbody tr th:only-of-type {\n",
              "        vertical-align: middle;\n",
              "    }\n",
              "\n",
              "    .dataframe tbody tr th {\n",
              "        vertical-align: top;\n",
              "    }\n",
              "\n",
              "    .dataframe thead th {\n",
              "        text-align: right;\n",
              "    }\n",
              "</style>\n",
              "<table border=\"1\" class=\"dataframe\">\n",
              "  <thead>\n",
              "    <tr style=\"text-align: right;\">\n",
              "      <th></th>\n",
              "      <th>SUPERMARKET_ATT</th>\n",
              "      <th>SCENT_T</th>\n",
              "      <th>TEMPERATURE_T</th>\n",
              "      <th>MUSIC_T</th>\n",
              "      <th>LIGHTING_T</th>\n",
              "      <th>FLOORING_T</th>\n",
              "      <th>CLEANLINESS_T</th>\n",
              "      <th>PERSONNEL_T</th>\n",
              "      <th>THEME_T</th>\n",
              "      <th>SCENT_CH</th>\n",
              "      <th>TEMPERATURE_CH</th>\n",
              "      <th>MUSIC_CH</th>\n",
              "      <th>LIGHTING_CH</th>\n",
              "      <th>FLOORING_CH</th>\n",
              "      <th>CLEANLINESS_CH</th>\n",
              "      <th>PERSONNEL_CH</th>\n",
              "      <th>THEME_CH</th>\n",
              "      <th>TIME_SPENT</th>\n",
              "      <th>BROAD_AISLES_MO</th>\n",
              "      <th>COLOR_CODED_PROD_MO</th>\n",
              "      <th>MERCHANDISE_GROUP_MO</th>\n",
              "      <th>PRICE_TAGS_MO</th>\n",
              "      <th>CASH_DESKS_MO</th>\n",
              "      <th>FRONT_DISPLAY_MO</th>\n",
              "      <th>FLOOR_SPACE_MO</th>\n",
              "      <th>BROAD_AISLES_CH</th>\n",
              "      <th>COLOR_CODED_PROD_CH</th>\n",
              "      <th>MERCHANDISE_GROUP_CH</th>\n",
              "      <th>PRICE_TAGS_CH</th>\n",
              "      <th>CASH_DESKS_CH</th>\n",
              "      <th>FRONT_DISPLAY_CH</th>\n",
              "      <th>FLOOR_SPACE_CH</th>\n",
              "      <th>EXCITEMENT</th>\n",
              "      <th>CONFIDENCE</th>\n",
              "      <th>SATISFACTION</th>\n",
              "      <th>HARMONY</th>\n",
              "      <th>HUNGER</th>\n",
              "      <th>SADNESS</th>\n",
              "      <th>TIREDNESS</th>\n",
              "      <th>ANGER</th>\n",
              "      <th>GENDER</th>\n",
              "      <th>AGE</th>\n",
              "      <th>EDUC_LVL</th>\n",
              "      <th>AREA</th>\n",
              "      <th>MRITAL_STATUS</th>\n",
              "      <th>ECON_CHAR</th>\n",
              "      <th>MONTH_INCOME</th>\n",
              "    </tr>\n",
              "  </thead>\n",
              "  <tbody>\n",
              "    <tr>\n",
              "      <th>0</th>\n",
              "      <td>1</td>\n",
              "      <td>Strongly agree [3]</td>\n",
              "      <td>Agree [2]</td>\n",
              "      <td>Agree [2]</td>\n",
              "      <td>Strongly agree [3]</td>\n",
              "      <td>Agree [2]</td>\n",
              "      <td>Strongly agree [3]</td>\n",
              "      <td>Strongly agree [3]</td>\n",
              "      <td>Agree [2]</td>\n",
              "      <td>Agree [2]</td>\n",
              "      <td>Agree [2]</td>\n",
              "      <td>Agree [2]</td>\n",
              "      <td>Strongly agree [3]</td>\n",
              "      <td>Strongly agree [3]</td>\n",
              "      <td>Strongly agree [3]</td>\n",
              "      <td>Strongly agree [3]</td>\n",
              "      <td>Strongly agree [3]</td>\n",
              "      <td>15-30 minutes</td>\n",
              "      <td>Strongly agree [3]</td>\n",
              "      <td>Neutral [0]</td>\n",
              "      <td>Agree [2]</td>\n",
              "      <td>Neutral [0]</td>\n",
              "      <td>Neutral [0]</td>\n",
              "      <td>Somewhat agree [1]</td>\n",
              "      <td>Strongly agree [3]</td>\n",
              "      <td>Strongly agree [3]</td>\n",
              "      <td>Somewhat agree [1]</td>\n",
              "      <td>Agree [2]</td>\n",
              "      <td>Neutral [0]</td>\n",
              "      <td>Neutral [0]</td>\n",
              "      <td>Agree [2]</td>\n",
              "      <td>Strongly agree [3]</td>\n",
              "      <td>NaN</td>\n",
              "      <td>Confidence</td>\n",
              "      <td>Satisfaction</td>\n",
              "      <td>Harmony</td>\n",
              "      <td>NaN</td>\n",
              "      <td>NaN</td>\n",
              "      <td>NaN</td>\n",
              "      <td>NaN</td>\n",
              "      <td>Female</td>\n",
              "      <td>15-24</td>\n",
              "      <td>Higher professional</td>\n",
              "      <td>Urban area</td>\n",
              "      <td>Never married</td>\n",
              "      <td>Employed</td>\n",
              "      <td>69,000AMD - 138,000AMD</td>\n",
              "    </tr>\n",
              "    <tr>\n",
              "      <th>1</th>\n",
              "      <td>1</td>\n",
              "      <td>Somewhat disagree [-1]</td>\n",
              "      <td>Somewhat disagree [-1]</td>\n",
              "      <td>Agree [2]</td>\n",
              "      <td>Agree [2]</td>\n",
              "      <td>Agree [2]</td>\n",
              "      <td>Somewhat disagree [-1]</td>\n",
              "      <td>Somewhat disagree [-1]</td>\n",
              "      <td>Somewhat agree [1]</td>\n",
              "      <td>Agree [2]</td>\n",
              "      <td>Agree [2]</td>\n",
              "      <td>Agree [2]</td>\n",
              "      <td>Agree [2]</td>\n",
              "      <td>Agree [2]</td>\n",
              "      <td>Agree [2]</td>\n",
              "      <td>Agree [2]</td>\n",
              "      <td>Agree [2]</td>\n",
              "      <td>Less than 15 minutes</td>\n",
              "      <td>Agree [2]</td>\n",
              "      <td>Agree [2]</td>\n",
              "      <td>Agree [2]</td>\n",
              "      <td>Agree [2]</td>\n",
              "      <td>Agree [2]</td>\n",
              "      <td>Agree [2]</td>\n",
              "      <td>Agree [2]</td>\n",
              "      <td>Agree [2]</td>\n",
              "      <td>Agree [2]</td>\n",
              "      <td>Agree [2]</td>\n",
              "      <td>Agree [2]</td>\n",
              "      <td>Agree [2]</td>\n",
              "      <td>Agree [2]</td>\n",
              "      <td>Agree [2]</td>\n",
              "      <td>Excitement</td>\n",
              "      <td>NaN</td>\n",
              "      <td>Satisfaction</td>\n",
              "      <td>NaN</td>\n",
              "      <td>NaN</td>\n",
              "      <td>NaN</td>\n",
              "      <td>NaN</td>\n",
              "      <td>NaN</td>\n",
              "      <td>Female</td>\n",
              "      <td>15-24</td>\n",
              "      <td>Higher professional</td>\n",
              "      <td>Urban area</td>\n",
              "      <td>Prefer not to answer</td>\n",
              "      <td>Employed</td>\n",
              "      <td>69,000AMD - 138,000AMD</td>\n",
              "    </tr>\n",
              "    <tr>\n",
              "      <th>2</th>\n",
              "      <td>1</td>\n",
              "      <td>Strongly agree [3]</td>\n",
              "      <td>Strongly agree [3]</td>\n",
              "      <td>Strongly agree [3]</td>\n",
              "      <td>Strongly agree [3]</td>\n",
              "      <td>Strongly agree [3]</td>\n",
              "      <td>Strongly agree [3]</td>\n",
              "      <td>Strongly agree [3]</td>\n",
              "      <td>Strongly agree [3]</td>\n",
              "      <td>Strongly agree [3]</td>\n",
              "      <td>Strongly agree [3]</td>\n",
              "      <td>Strongly agree [3]</td>\n",
              "      <td>Strongly agree [3]</td>\n",
              "      <td>Strongly agree [3]</td>\n",
              "      <td>Strongly agree [3]</td>\n",
              "      <td>Strongly agree [3]</td>\n",
              "      <td>Strongly agree [3]</td>\n",
              "      <td>31-45 minutes</td>\n",
              "      <td>Strongly agree [3]</td>\n",
              "      <td>Strongly agree [3]</td>\n",
              "      <td>Strongly agree [3]</td>\n",
              "      <td>Strongly agree [3]</td>\n",
              "      <td>Strongly agree [3]</td>\n",
              "      <td>Strongly agree [3]</td>\n",
              "      <td>Strongly agree [3]</td>\n",
              "      <td>Strongly agree [3]</td>\n",
              "      <td>Strongly agree [3]</td>\n",
              "      <td>Strongly agree [3]</td>\n",
              "      <td>Strongly agree [3]</td>\n",
              "      <td>Strongly agree [3]</td>\n",
              "      <td>Strongly agree [3]</td>\n",
              "      <td>Strongly agree [3]</td>\n",
              "      <td>Excitement</td>\n",
              "      <td>Confidence</td>\n",
              "      <td>Satisfaction</td>\n",
              "      <td>Harmony</td>\n",
              "      <td>NaN</td>\n",
              "      <td>Sadness</td>\n",
              "      <td>NaN</td>\n",
              "      <td>Anger</td>\n",
              "      <td>Female</td>\n",
              "      <td>15-24</td>\n",
              "      <td>Primary professional</td>\n",
              "      <td>Urban area</td>\n",
              "      <td>Never married</td>\n",
              "      <td>Employed</td>\n",
              "      <td>139,000AMD - 208,000AMD</td>\n",
              "    </tr>\n",
              "    <tr>\n",
              "      <th>3</th>\n",
              "      <td>1</td>\n",
              "      <td>Agree [2]</td>\n",
              "      <td>Agree [2]</td>\n",
              "      <td>Somewhat agree [1]</td>\n",
              "      <td>Somewhat agree [1]</td>\n",
              "      <td>Somewhat agree [1]</td>\n",
              "      <td>Strongly agree [3]</td>\n",
              "      <td>Agree [2]</td>\n",
              "      <td>Somewhat agree [1]</td>\n",
              "      <td>Agree [2]</td>\n",
              "      <td>Agree [2]</td>\n",
              "      <td>Somewhat agree [1]</td>\n",
              "      <td>Somewhat agree [1]</td>\n",
              "      <td>Somewhat agree [1]</td>\n",
              "      <td>Agree [2]</td>\n",
              "      <td>Agree [2]</td>\n",
              "      <td>Somewhat agree [1]</td>\n",
              "      <td>15-30 minutes</td>\n",
              "      <td>Somewhat agree [1]</td>\n",
              "      <td>Somewhat agree [1]</td>\n",
              "      <td>Neutral [0]</td>\n",
              "      <td>Agree [2]</td>\n",
              "      <td>Agree [2]</td>\n",
              "      <td>Agree [2]</td>\n",
              "      <td>Agree [2]</td>\n",
              "      <td>Agree [2]</td>\n",
              "      <td>Agree [2]</td>\n",
              "      <td>Neutral [0]</td>\n",
              "      <td>Neutral [0]</td>\n",
              "      <td>Agree [2]</td>\n",
              "      <td>Agree [2]</td>\n",
              "      <td>Agree [2]</td>\n",
              "      <td>NaN</td>\n",
              "      <td>NaN</td>\n",
              "      <td>Satisfaction</td>\n",
              "      <td>Harmony</td>\n",
              "      <td>Hunger</td>\n",
              "      <td>NaN</td>\n",
              "      <td>NaN</td>\n",
              "      <td>NaN</td>\n",
              "      <td>Female</td>\n",
              "      <td>15-24</td>\n",
              "      <td>Higher professional</td>\n",
              "      <td>Urban area</td>\n",
              "      <td>Never married</td>\n",
              "      <td>Prefer not to answer</td>\n",
              "      <td>Prefer not to answer</td>\n",
              "    </tr>\n",
              "    <tr>\n",
              "      <th>4</th>\n",
              "      <td>1</td>\n",
              "      <td>Agree [2]</td>\n",
              "      <td>Neutral [0]</td>\n",
              "      <td>Agree [2]</td>\n",
              "      <td>Somewhat agree [1]</td>\n",
              "      <td>Neutral [0]</td>\n",
              "      <td>Somewhat agree [1]</td>\n",
              "      <td>Agree [2]</td>\n",
              "      <td>Somewhat agree [1]</td>\n",
              "      <td>Somewhat agree [1]</td>\n",
              "      <td>Neutral [0]</td>\n",
              "      <td>Neutral [0]</td>\n",
              "      <td>Neutral [0]</td>\n",
              "      <td>Neutral [0]</td>\n",
              "      <td>Neutral [0]</td>\n",
              "      <td>Somewhat agree [1]</td>\n",
              "      <td>Neutral [0]</td>\n",
              "      <td>15-30 minutes</td>\n",
              "      <td>Somewhat agree [1]</td>\n",
              "      <td>Somewhat agree [1]</td>\n",
              "      <td>Somewhat agree [1]</td>\n",
              "      <td>Neutral [0]</td>\n",
              "      <td>Neutral [0]</td>\n",
              "      <td>Neutral [0]</td>\n",
              "      <td>Somewhat agree [1]</td>\n",
              "      <td>Somewhat agree [1]</td>\n",
              "      <td>Somewhat agree [1]</td>\n",
              "      <td>Somewhat agree [1]</td>\n",
              "      <td>Neutral [0]</td>\n",
              "      <td>Neutral [0]</td>\n",
              "      <td>Neutral [0]</td>\n",
              "      <td>Somewhat agree [1]</td>\n",
              "      <td>NaN</td>\n",
              "      <td>NaN</td>\n",
              "      <td>NaN</td>\n",
              "      <td>NaN</td>\n",
              "      <td>Hunger</td>\n",
              "      <td>NaN</td>\n",
              "      <td>NaN</td>\n",
              "      <td>NaN</td>\n",
              "      <td>Female</td>\n",
              "      <td>25-34</td>\n",
              "      <td>Higher professional</td>\n",
              "      <td>Urban area</td>\n",
              "      <td>Never married</td>\n",
              "      <td>Employed</td>\n",
              "      <td>139,000AMD - 208,000AMD</td>\n",
              "    </tr>\n",
              "  </tbody>\n",
              "</table>\n",
              "</div>"
            ],
            "text/plain": [
              "   SUPERMARKET_ATT  ...             MONTH_INCOME\n",
              "0                1  ...   69,000AMD - 138,000AMD\n",
              "1                1  ...   69,000AMD - 138,000AMD\n",
              "2                1  ...  139,000AMD - 208,000AMD\n",
              "3                1  ...     Prefer not to answer\n",
              "4                1  ...  139,000AMD - 208,000AMD\n",
              "\n",
              "[5 rows x 47 columns]"
            ]
          },
          "metadata": {
            "tags": []
          },
          "execution_count": 32
        }
      ]
    },
    {
      "cell_type": "code",
      "metadata": {
        "colab": {
          "base_uri": "https://localhost:8080/",
          "height": 676
        },
        "id": "2hJNqgaXtbIr",
        "outputId": "e05f3b9e-9e44-4c5a-e7d0-f921da89cccd"
      },
      "source": [
        "plt.figure(figsize=(20,10))\n",
        "sns.countplot(data_eng.SUPERMARKET_ATT)\n",
        "plt.title(\"Distribution of Supermarket Attendance\")\n",
        "plt.show()"
      ],
      "execution_count": null,
      "outputs": [
        {
          "output_type": "stream",
          "text": [
            "/usr/local/lib/python3.7/dist-packages/seaborn/_decorators.py:43: FutureWarning: Pass the following variable as a keyword arg: x. From version 0.12, the only valid positional argument will be `data`, and passing other arguments without an explicit keyword will result in an error or misinterpretation.\n",
            "  FutureWarning\n"
          ],
          "name": "stderr"
        },
        {
          "output_type": "display_data",
          "data": {
            "image/png": "[encoded data removed]",
            "text/plain": [
              "<Figure size 1440x720 with 1 Axes>"
            ]
          },
          "metadata": {
            "tags": [],
            "needs_background": "light"
          }
        }
      ]
    },
    {
      "cell_type": "code",
      "metadata": {
        "colab": {
          "base_uri": "https://localhost:8080/"
        },
        "id": "5Y9Mnexutxsc",
        "outputId": "b44923b8-e25f-4597-ef58-588affa3153d"
      },
      "source": [
        "data_eng.SUPERMARKET_ATT.value_counts(normalize=True).mul(100).rename(\"Supermarket Attendance Percentage\")"
      ],
      "execution_count": null,
      "outputs": [
        {
          "output_type": "execute_result",
          "data": {
            "text/plain": [
              "1    94.594595\n",
              "0     5.405405\n",
              "Name: Supermarket Attendance Percentage, dtype: float64"
            ]
          },
          "metadata": {
            "tags": []
          },
          "execution_count": 33
        }
      ]
    },
    {
      "cell_type": "code",
      "metadata": {
        "id": "0Zdo3rONhM1J"
      },
      "source": [
        "SCENT_T = data_eng['SCENT_T'].dropna()"
      ],
      "execution_count": null,
      "outputs": []
    },
    {
      "cell_type": "code",
      "metadata": {
        "colab": {
          "base_uri": "https://localhost:8080/"
        },
        "id": "WfnWiLvIhavG",
        "outputId": "36f94dda-39aa-4b54-bb4c-5c5483659bbc"
      },
      "source": [
        "SCENT_T.unique()"
      ],
      "execution_count": null,
      "outputs": [
        {
          "output_type": "execute_result",
          "data": {
            "text/plain": [
              "array(['Strongly agree [3]', 'Somewhat disagree [-1]', 'Agree [2]',\n",
              "       'Neutral [0]', 'Somewhat agree [1]', 'Strongly disagree [-3]',\n",
              "       'Disagree [-2]'], dtype=object)"
            ]
          },
          "metadata": {
            "tags": []
          },
          "execution_count": 8
        }
      ]
    },
    {
      "cell_type": "code",
      "metadata": {
        "id": "p4EfeQB0go8Y"
      },
      "source": [
        "replace = {'Strongly disagree [-3]': 1, 'Disagree [-2]':2, 'Somewhat disagree [-1]': 3,\n",
        "                    'Neutral [0]': 4, 'Somewhat agree [1]': 5, 'Agree [2]': 6, 'Strongly agree [3]':7}"
      ],
      "execution_count": null,
      "outputs": []
    },
    {
      "cell_type": "code",
      "metadata": {
        "id": "xF7NND1uhk1q"
      },
      "source": [
        "SCENT_T = SCENT_T.replace(replace)"
      ],
      "execution_count": null,
      "outputs": []
    },
    {
      "cell_type": "code",
      "metadata": {
        "id": "_faZUrMhiJz4"
      },
      "source": [
        "medHyp = 4"
      ],
      "execution_count": null,
      "outputs": []
    },
    {
      "cell_type": "code",
      "metadata": {
        "colab": {
          "base_uri": "https://localhost:8080/"
        },
        "id": "rymOE5FticBr",
        "outputId": "b92f8c84-24de-4d42-d805-8a381a9f1ca1"
      },
      "source": [
        "rank, pVal = wilcoxon(SCENT_T-medHyp, zero_method = \"wilcox\", correction = False)\n",
        "print(rank)\n",
        "print(pVal)"
      ],
      "execution_count": null,
      "outputs": [
        {
          "output_type": "stream",
          "text": [
            "714.0\n",
            "2.2669547872462317e-12\n"
          ],
          "name": "stdout"
        }
      ]
    },
    {
      "cell_type": "code",
      "metadata": {
        "id": "uzB-am-pjUSp"
      },
      "source": [
        "from scipy.stats import norm"
      ],
      "execution_count": null,
      "outputs": []
    },
    {
      "cell_type": "code",
      "metadata": {
        "colab": {
          "base_uri": "https://localhost:8080/"
        },
        "id": "D-oWvdu6jaJW",
        "outputId": "e3f8b232-843a-487d-f62b-cdfd15b5e9cb"
      },
      "source": [
        "norm.ppf(pVal/2)"
      ],
      "execution_count": null,
      "outputs": [
        {
          "output_type": "execute_result",
          "data": {
            "text/plain": [
              "-7.016992064809889"
            ]
          },
          "metadata": {
            "tags": []
          },
          "execution_count": 191
        }
      ]
    },
    {
      "cell_type": "code",
      "metadata": {
        "id": "mt0sFNwQjn6s"
      },
      "source": [
        "from statistics import mean"
      ],
      "execution_count": null,
      "outputs": []
    },
    {
      "cell_type": "code",
      "metadata": {
        "id": "ayeMyjbmjw5j"
      },
      "source": [
        "def wilcoxonOS(myData, field, catCoding=None, hypMed = None):\n",
        "    myField = myData[field].dropna()\n",
        "\n",
        "    if catCoding != None:\n",
        "        myField = myField.replace(catCoding)\n",
        "    myFreq = myField.value_counts()\n",
        "\n",
        "    myMed = hypMed\n",
        "    if hypMed == None:\n",
        "        myMed = (min(myFreq.index)+max(myFreq.index))/2\n",
        "\n",
        "    rank, pVal = wilcoxon(myField-myMed, zero_method = 'wilcox', correction = False)\n",
        "    zVal = norm.ppf(pVal/2)\n",
        "\n",
        "    return rank, pVal, zVal, myMed"
      ],
      "execution_count": null,
      "outputs": []
    },
    {
      "cell_type": "code",
      "metadata": {
        "colab": {
          "base_uri": "https://localhost:8080/"
        },
        "id": "zOUfXx19lB2s",
        "outputId": "121963f8-b8a7-445c-86c5-7472e862f725"
      },
      "source": [
        "wilcoxonOS(data_eng, 'TEMPERATURE_T', catCoding={'Strongly disagree [-3]': 1, 'Disagree [-2]':2, 'Somewhat disagree [-1]': 3,\n",
        "                                                 'Neutral [0]': 4, 'Somewhat agree [1]': 5, 'Agree [2]': 6, 'Strongly agree [3]':7}, hypMed = 4)"
      ],
      "execution_count": null,
      "outputs": [
        {
          "output_type": "execute_result",
          "data": {
            "text/plain": [
              "(52.5, 1.2111350865396998e-21, -9.557090616515756, 4)"
            ]
          },
          "metadata": {
            "tags": []
          },
          "execution_count": 195
        }
      ]
    },
    {
      "cell_type": "code",
      "metadata": {
        "colab": {
          "base_uri": "https://localhost:8080/"
        },
        "id": "ZTcu-XZiln0m",
        "outputId": "9a88d672-af42-45ee-ad9f-013ae195c138"
      },
      "source": [
        "wilcoxonOS(data_eng, 'MUSIC_T', catCoding={'Strongly disagree [-3]': 1, 'Disagree [-2]':2, 'Somewhat disagree [-1]': 3,\n",
        "                                                 'Neutral [0]': 4, 'Somewhat agree [1]': 5, 'Agree [2]': 6, 'Strongly agree [3]':7}, hypMed = 4)"
      ],
      "execution_count": null,
      "outputs": [
        {
          "output_type": "execute_result",
          "data": {
            "text/plain": [
              "(698.5, 1.8833742714231807e-11, -6.714789869281158, 4)"
            ]
          },
          "metadata": {
            "tags": []
          },
          "execution_count": 196
        }
      ]
    },
    {
      "cell_type": "code",
      "metadata": {
        "colab": {
          "base_uri": "https://localhost:8080/"
        },
        "id": "6Fe2RujKluV0",
        "outputId": "b7986fd7-77c8-486f-9bd8-cd8592061d09"
      },
      "source": [
        "wilcoxonOS(data_eng, 'LIGHTING_T', catCoding={'Strongly disagree [-3]': 1, 'Disagree [-2]':2, 'Somewhat disagree [-1]': 3,\n",
        "                                                 'Neutral [0]': 4, 'Somewhat agree [1]': 5, 'Agree [2]': 6, 'Strongly agree [3]':7}, hypMed = 4)"
      ],
      "execution_count": null,
      "outputs": [
        {
          "output_type": "execute_result",
          "data": {
            "text/plain": [
              "(323.0, 8.302909812465916e-19, -8.855876057817678, 4)"
            ]
          },
          "metadata": {
            "tags": []
          },
          "execution_count": 197
        }
      ]
    },
    {
      "cell_type": "code",
      "metadata": {
        "colab": {
          "base_uri": "https://localhost:8080/"
        },
        "id": "pkqY9kzHl2oE",
        "outputId": "5e32657b-476b-4a22-809f-a209632463c6"
      },
      "source": [
        "wilcoxonOS(data_eng, 'FLOORING_T', catCoding={'Strongly disagree [-3]': 1, 'Disagree [-2]':2, 'Somewhat disagree [-1]': 3,\n",
        "                                                 'Neutral [0]': 4, 'Somewhat agree [1]': 5, 'Agree [2]': 6, 'Strongly agree [3]':7}, hypMed = 4)"
      ],
      "execution_count": null,
      "outputs": [
        {
          "output_type": "execute_result",
          "data": {
            "text/plain": [
              "(694.0, 1.4866363514237636e-10, -6.40674039013732, 4)"
            ]
          },
          "metadata": {
            "tags": []
          },
          "execution_count": 198
        }
      ]
    },
    {
      "cell_type": "code",
      "metadata": {
        "colab": {
          "base_uri": "https://localhost:8080/"
        },
        "id": "Yo5rpdd6l7Bv",
        "outputId": "979b9e17-5015-4144-9001-c40d066f8811"
      },
      "source": [
        "wilcoxonOS(data_eng, 'CLEANLINESS_T', catCoding={'Strongly disagree [-3]': 1, 'Disagree [-2]':2, 'Somewhat disagree [-1]': 3,\n",
        "                                                 'Neutral [0]': 4, 'Somewhat agree [1]': 5, 'Agree [2]': 6, 'Strongly agree [3]':7}, hypMed = 4)"
      ],
      "execution_count": null,
      "outputs": [
        {
          "output_type": "execute_result",
          "data": {
            "text/plain": [
              "(61.0, 1.8867142023075704e-23, -9.978833675533876, 4)"
            ]
          },
          "metadata": {
            "tags": []
          },
          "execution_count": 199
        }
      ]
    },
    {
      "cell_type": "code",
      "metadata": {
        "colab": {
          "base_uri": "https://localhost:8080/"
        },
        "id": "N__nVEJGl-YC",
        "outputId": "5af8c304-e96c-4d94-8427-a643fdc2bd8f"
      },
      "source": [
        "wilcoxonOS(data_eng, 'PERSONNEL_T', catCoding={'Strongly disagree [-3]': 1, 'Disagree [-2]':2, 'Somewhat disagree [-1]': 3,\n",
        "                                                 'Neutral [0]': 4, 'Somewhat agree [1]': 5, 'Agree [2]': 6, 'Strongly agree [3]':7}, hypMed = 4)"
      ],
      "execution_count": null,
      "outputs": [
        {
          "output_type": "execute_result",
          "data": {
            "text/plain": [
              "(85.0, 1.3932279255827152e-22, -9.778453667093222, 4)"
            ]
          },
          "metadata": {
            "tags": []
          },
          "execution_count": 200
        }
      ]
    },
    {
      "cell_type": "code",
      "metadata": {
        "colab": {
          "base_uri": "https://localhost:8080/"
        },
        "id": "KzhUqPFZmC7f",
        "outputId": "7ad4a2ea-0a8f-4c20-b47d-8b84644b8707"
      },
      "source": [
        "wilcoxonOS(data_eng, 'THEME_T', catCoding={'Strongly disagree [-3]': 1, 'Disagree [-2]':2, 'Somewhat disagree [-1]': 3,\n",
        "                                                 'Neutral [0]': 4, 'Somewhat agree [1]': 5, 'Agree [2]': 6, 'Strongly agree [3]':7}, hypMed = 4)"
      ],
      "execution_count": null,
      "outputs": [
        {
          "output_type": "execute_result",
          "data": {
            "text/plain": [
              "(106.5, 3.196148963200931e-19, -8.961733035649027, 4)"
            ]
          },
          "metadata": {
            "tags": []
          },
          "execution_count": 201
        }
      ]
    },
    {
      "cell_type": "code",
      "metadata": {
        "colab": {
          "base_uri": "https://localhost:8080/"
        },
        "id": "qAOJyoG_mFlI",
        "outputId": "45e8c3ac-88e5-4018-e8e9-a7e0d0438541"
      },
      "source": [
        "wilcoxonOS(data_eng, 'THEME_CH', catCoding={'Strongly disagree [-3]': 1, 'Disagree [-2]':2, 'Somewhat disagree [-1]': 3,\n",
        "                                                 'Neutral [0]': 4, 'Somewhat agree [1]': 5, 'Agree [2]': 6, 'Strongly agree [3]':7}, hypMed = 4)"
      ],
      "execution_count": null,
      "outputs": [
        {
          "output_type": "execute_result",
          "data": {
            "text/plain": [
              "(199.0, 2.0628361276665817e-17, -8.490198973366978, 4)"
            ]
          },
          "metadata": {
            "tags": []
          },
          "execution_count": 202
        }
      ]
    },
    {
      "cell_type": "code",
      "metadata": {
        "colab": {
          "base_uri": "https://localhost:8080/"
        },
        "id": "Ej-K4yRpmVXw",
        "outputId": "b4cd87cc-3bba-45bc-fd67-d862359ecd53"
      },
      "source": [
        "wilcoxonOS(data_eng, 'PERSONNEL_CH', catCoding={'Strongly disagree [-3]': 1, 'Disagree [-2]':2, 'Somewhat disagree [-1]': 3,\n",
        "                                                 'Neutral [0]': 4, 'Somewhat agree [1]': 5, 'Agree [2]': 6, 'Strongly agree [3]':7}, hypMed = 4)"
      ],
      "execution_count": null,
      "outputs": [
        {
          "output_type": "execute_result",
          "data": {
            "text/plain": [
              "(172.5, 8.27799511300186e-23, -9.831015302152405, 4)"
            ]
          },
          "metadata": {
            "tags": []
          },
          "execution_count": 204
        }
      ]
    },
    {
      "cell_type": "code",
      "metadata": {
        "id": "hSvMsRPPu539"
      },
      "source": [
        "data_eng.SCENT_T[data_eng.SCENT_T == 'Strongly disagree [-3]'] = 1\n",
        "data_eng.SCENT_T[data_eng.SCENT_T == 'Disagree [-2]'] = 2\n",
        "data_eng.SCENT_T[data_eng.SCENT_T == 'Somewhat disagree [-1]'] = 3\n",
        "data_eng.SCENT_T[data_eng.SCENT_T == 'Neutral [0]'] = 4\n",
        "data_eng.SCENT_T[data_eng.SCENT_T == 'Somewhat agree [1]'] = 5\n",
        "data_eng.SCENT_T[data_eng.SCENT_T == 'Agree [2]'] = 6\n",
        "data_eng.SCENT_T[data_eng.SCENT_T == 'Strongly agree [3]'] = 7\n",
        "#data_eng['SCENT_T']= data_eng['SCENT_T'].astype(\"int\")\n",
        "\n",
        "data_eng.TEMPERATURE_T[data_eng.TEMPERATURE_T == 'Strongly disagree [-3]'] = 1\n",
        "data_eng.TEMPERATURE_T[data_eng.TEMPERATURE_T == 'Disagree [-2]'] = 2\n",
        "data_eng.TEMPERATURE_T[data_eng.TEMPERATURE_T == 'Somewhat disagree [-1]'] = 3\n",
        "data_eng.TEMPERATURE_T[data_eng.TEMPERATURE_T == 'Neutral [0]'] = 4\n",
        "data_eng.TEMPERATURE_T[data_eng.TEMPERATURE_T == 'Somewhat agree [1]'] = 5\n",
        "data_eng.TEMPERATURE_T[data_eng.TEMPERATURE_T == 'Agree [2]'] = 6\n",
        "data_eng.TEMPERATURE_T[data_eng.TEMPERATURE_T == 'Strongly agree [3]'] = 7\n",
        "#data_eng['TEMPERATURE_T']= data_eng['TEMPERATURE_T'].astype(\"int\")\n",
        "\n",
        "data_eng.MUSIC_T[data_eng.MUSIC_T == 'Strongly disagree [-3]'] = 1\n",
        "data_eng.MUSIC_T[data_eng.MUSIC_T == 'Disagree [-2]'] = 2\n",
        "data_eng.MUSIC_T[data_eng.MUSIC_T == 'Somewhat disagree [-1]'] = 3\n",
        "data_eng.MUSIC_T[data_eng.MUSIC_T == 'Neutral [0]'] = 4\n",
        "data_eng.MUSIC_T[data_eng.MUSIC_T == 'Somewhat agree [1]'] = 5\n",
        "data_eng.MUSIC_T[data_eng.MUSIC_T == 'Agree [2]'] = 6\n",
        "data_eng.MUSIC_T[data_eng.MUSIC_T == 'Strongly agree [3]'] = 7\n",
        "#data_eng['MUSIC_T']= data_eng['MUSIC_T'].astype(\"int\")\n",
        "\n",
        "data_eng.LIGHTING_T[data_eng.LIGHTING_T == 'Strongly disagree [-3]'] = 1\n",
        "data_eng.LIGHTING_T[data_eng.LIGHTING_T == 'Disagree [-2]'] = 2\n",
        "data_eng.LIGHTING_T[data_eng.LIGHTING_T == 'Somewhat disagree [-1]'] = 3\n",
        "data_eng.LIGHTING_T[data_eng.LIGHTING_T == 'Neutral [0]'] = 4\n",
        "data_eng.LIGHTING_T[data_eng.LIGHTING_T == 'Somewhat agree [1]'] = 5\n",
        "data_eng.LIGHTING_T[data_eng.LIGHTING_T == 'Agree [2]'] = 6\n",
        "data_eng.LIGHTING_T[data_eng.LIGHTING_T == 'Strongly agree [3]'] = 7\n",
        "#data_eng['LIGHTING_T']= data_eng['LIGHTING_T'].astype(\"int\")\n",
        "\n",
        "data_eng.FLOORING_T[data_eng.FLOORING_T == 'Strongly disagree [-3]'] = 1\n",
        "data_eng.FLOORING_T[data_eng.FLOORING_T == 'Disagree [-2]'] = 2\n",
        "data_eng.FLOORING_T[data_eng.FLOORING_T == 'Somewhat disagree [-1]'] = 3\n",
        "data_eng.FLOORING_T[data_eng.FLOORING_T == 'Neutral [0]'] = 4\n",
        "data_eng.FLOORING_T[data_eng.FLOORING_T == 'Somewhat agree [1]'] = 5\n",
        "data_eng.FLOORING_T[data_eng.FLOORING_T == 'Agree [2]'] = 6\n",
        "data_eng.FLOORING_T[data_eng.FLOORING_T == 'Strongly agree [3]'] = 7\n",
        "#data_eng['FLOORING_T']= data_eng['FLOORING_T'].astype(\"int\")\n",
        "\n",
        "data_eng.CLEANLINESS_T[data_eng.CLEANLINESS_T == 'Strongly disagree [-3]'] = 1\n",
        "data_eng.CLEANLINESS_T[data_eng.CLEANLINESS_T == 'Disagree [-2]'] = 2\n",
        "data_eng.CLEANLINESS_T[data_eng.CLEANLINESS_T == 'Somewhat disagree [-1]'] = 3\n",
        "data_eng.CLEANLINESS_T[data_eng.CLEANLINESS_T == 'Neutral [0]'] = 4\n",
        "data_eng.CLEANLINESS_T[data_eng.CLEANLINESS_T == 'Somewhat agree [1]'] = 5\n",
        "data_eng.CLEANLINESS_T[data_eng.CLEANLINESS_T == 'Agree [2]'] = 6\n",
        "data_eng.CLEANLINESS_T[data_eng.CLEANLINESS_T == 'Strongly agree [3]'] = 7\n",
        "#data_eng['CLEANLINESS_T']= data_eng['CLEANLINESS_T'].astype(\"int\")\n",
        "\n",
        "data_eng.PERSONNEL_T[data_eng.PERSONNEL_T == 'Strongly disagree [-3]'] = 1\n",
        "data_eng.PERSONNEL_T[data_eng.PERSONNEL_T == 'Disagree [-2]'] = 2\n",
        "data_eng.PERSONNEL_T[data_eng.PERSONNEL_T == 'Somewhat disagree [-1]'] = 3\n",
        "data_eng.PERSONNEL_T[data_eng.PERSONNEL_T == 'Neutral [0]'] = 4\n",
        "data_eng.PERSONNEL_T[data_eng.PERSONNEL_T == 'Somewhat agree [1]'] = 5\n",
        "data_eng.PERSONNEL_T[data_eng.PERSONNEL_T == 'Agree [2]'] = 6\n",
        "data_eng.PERSONNEL_T[data_eng.PERSONNEL_T == 'Strongly agree [3]'] = 7\n",
        "#data_eng['PERSONNEL_T']= data_eng['PERSONNEL_T'].astype(\"int\")\n",
        "\n",
        "data_eng.THEME_T[data_eng.THEME_T == 'Strongly disagree [-3]'] = 1\n",
        "data_eng.THEME_T[data_eng.THEME_T == 'Disagree [-2]'] = 2\n",
        "data_eng.THEME_T[data_eng.THEME_T == 'Somewhat disagree [-1]'] = 3\n",
        "data_eng.THEME_T[data_eng.THEME_T == 'Neutral [0]'] = 4\n",
        "data_eng.THEME_T[data_eng.THEME_T == 'Somewhat agree [1]'] = 5\n",
        "data_eng.THEME_T[data_eng.THEME_T == 'Agree [2]'] = 6\n",
        "data_eng.THEME_T[data_eng.THEME_T == 'Strongly agree [3]'] = 7\n",
        "#data_eng['THEME_T']= data_eng['THEME_T'].astype(\"int\")\n",
        "\n",
        "data_eng.SCENT_CH[data_eng.SCENT_CH == 'Strongly disagree [-3]'] = 1\n",
        "data_eng.SCENT_CH[data_eng.SCENT_CH == 'Disagree [-2]'] = 2\n",
        "data_eng.SCENT_CH[data_eng.SCENT_CH == 'Somewhat disagree [-1]'] = 3\n",
        "data_eng.SCENT_CH[data_eng.SCENT_CH == 'Neutral [0]'] = 4\n",
        "data_eng.SCENT_CH[data_eng.SCENT_CH == 'Somewhat agree [1]'] = 5\n",
        "data_eng.SCENT_CH[data_eng.SCENT_CH == 'Agree [2]'] = 6\n",
        "data_eng.SCENT_CH[data_eng.SCENT_CH == 'Strongly agree [3]'] = 7\n",
        "#data_eng['SCENT_CH']= data_eng['SCENT_CH'].astype(\"int\")\n",
        "\n",
        "data_eng.TEMPERATURE_CH[data_eng.TEMPERATURE_CH == 'Strongly disagree [-3]'] = 1\n",
        "data_eng.TEMPERATURE_CH[data_eng.TEMPERATURE_CH == 'Disagree [-2]'] = 2\n",
        "data_eng.TEMPERATURE_CH[data_eng.TEMPERATURE_CH == 'Somewhat disagree [-1]'] = 3\n",
        "data_eng.TEMPERATURE_CH[data_eng.TEMPERATURE_CH == 'Neutral [0]'] = 4\n",
        "data_eng.TEMPERATURE_CH[data_eng.TEMPERATURE_CH == 'Somewhat agree [1]'] = 5\n",
        "data_eng.TEMPERATURE_CH[data_eng.TEMPERATURE_CH == 'Agree [2]'] = 6\n",
        "data_eng.TEMPERATURE_CH[data_eng.TEMPERATURE_CH == 'Strongly agree [3]'] = 7\n",
        "#data_eng['TEMPERATURE_CH']= data_eng['TEMPERATURE_CH'].astype(\"int\")\n",
        "\n",
        "data_eng.MUSIC_CH[data_eng.MUSIC_CH == 'Strongly disagree [-3]'] = 1\n",
        "data_eng.MUSIC_CH[data_eng.MUSIC_CH == 'Disagree [-2]'] = 2\n",
        "data_eng.MUSIC_CH[data_eng.MUSIC_CH == 'Somewhat disagree [-1]'] = 3\n",
        "data_eng.MUSIC_CH[data_eng.MUSIC_CH == 'Neutral [0]'] = 4\n",
        "data_eng.MUSIC_CH[data_eng.MUSIC_CH == 'Somewhat agree [1]'] = 5\n",
        "data_eng.MUSIC_CH[data_eng.MUSIC_CH == 'Agree [2]'] = 6\n",
        "data_eng.MUSIC_CH[data_eng.MUSIC_CH == 'Strongly agree [3]'] = 7\n",
        "#data_eng['MUSIC_CH']= data_eng['MUSIC_CH'].astype(\"int\")\n",
        "\n",
        "data_eng.LIGHTING_CH[data_eng.LIGHTING_CH == 'Strongly disagree [-3]'] = 1\n",
        "data_eng.LIGHTING_CH[data_eng.LIGHTING_CH == 'Disagree [-2]'] = 2\n",
        "data_eng.LIGHTING_CH[data_eng.LIGHTING_CH == 'Somewhat disagree [-1]'] = 3\n",
        "data_eng.LIGHTING_CH[data_eng.LIGHTING_CH == 'Neutral [0]'] = 4\n",
        "data_eng.LIGHTING_CH[data_eng.LIGHTING_CH == 'Somewhat agree [1]'] = 5\n",
        "data_eng.LIGHTING_CH[data_eng.LIGHTING_CH == 'Agree [2]'] = 6\n",
        "data_eng.LIGHTING_CH[data_eng.LIGHTING_CH == 'Strongly agree [3]'] = 7\n",
        "#data_eng['LIGHTING_CH']= data_eng['LIGHTING_CH'].astype(\"int\")\n",
        "\n",
        "data_eng.FLOORING_CH[data_eng.FLOORING_CH == 'Strongly disagree [-3]'] = 1\n",
        "data_eng.FLOORING_CH[data_eng.FLOORING_CH == 'Disagree [-2]'] = 2\n",
        "data_eng.FLOORING_CH[data_eng.FLOORING_CH == 'Somewhat disagree [-1]'] = 3\n",
        "data_eng.FLOORING_CH[data_eng.FLOORING_CH == 'Neutral [0]'] = 4\n",
        "data_eng.FLOORING_CH[data_eng.FLOORING_CH == 'Somewhat agree [1]'] = 5\n",
        "data_eng.FLOORING_CH[data_eng.FLOORING_CH == 'Agree [2]'] = 6\n",
        "data_eng.FLOORING_CH[data_eng.FLOORING_CH == 'Strongly agree [3]'] = 7\n",
        "#data_eng['FLOORING_CH']= data_eng['FLOORING_CH'].astype(\"int\")\n",
        "\n",
        "data_eng.CLEANLINESS_CH[data_eng.CLEANLINESS_CH == 'Strongly disagree [-3]'] = 1\n",
        "data_eng.CLEANLINESS_CH[data_eng.CLEANLINESS_CH == 'Disagree [-2]'] = 2\n",
        "data_eng.CLEANLINESS_CH[data_eng.CLEANLINESS_CH == 'Somewhat disagree [-1]'] = 3\n",
        "data_eng.CLEANLINESS_CH[data_eng.CLEANLINESS_CH == 'Neutral [0]'] = 4\n",
        "data_eng.CLEANLINESS_CH[data_eng.CLEANLINESS_CH == 'Somewhat agree [1]'] = 5\n",
        "data_eng.CLEANLINESS_CH[data_eng.CLEANLINESS_CH == 'Agree [2]'] = 6\n",
        "data_eng.CLEANLINESS_CH[data_eng.CLEANLINESS_CH == 'Strongly agree [3]'] = 7\n",
        "#data_eng['CLEANLINESS_CH']= data_eng['CLEANLINESS_CH'].astype(\"int\")\n",
        "\n",
        "data_eng.PERSONNEL_CH[data_eng.PERSONNEL_CH == 'Strongly disagree [-3]'] = 1\n",
        "data_eng.PERSONNEL_CH[data_eng.PERSONNEL_CH == 'Disagree [-2]'] = 2\n",
        "data_eng.PERSONNEL_CH[data_eng.PERSONNEL_CH == 'Somewhat disagree [-1]'] = 3\n",
        "data_eng.PERSONNEL_CH[data_eng.PERSONNEL_CH == 'Neutral [0]'] = 4\n",
        "data_eng.PERSONNEL_CH[data_eng.PERSONNEL_CH == 'Somewhat agree [1]'] = 5\n",
        "data_eng.PERSONNEL_CH[data_eng.PERSONNEL_CH == 'Agree [2]'] = 6\n",
        "data_eng.PERSONNEL_CH[data_eng.PERSONNEL_CH == 'Strongly agree [3]'] = 7\n",
        "#data_eng['PERSONNEL_CH']= data_eng['PERSONNEL_CH'].astype(\"int\")\n",
        "\n",
        "data_eng.THEME_CH[data_eng.THEME_CH == 'Strongly disagree [-3]'] = 1\n",
        "data_eng.THEME_CH[data_eng.THEME_CH == 'Disagree [-2]'] = 2\n",
        "data_eng.THEME_CH[data_eng.THEME_CH == 'Somewhat disagree [-1]'] = 3\n",
        "data_eng.THEME_CH[data_eng.THEME_CH == 'Neutral [0]'] = 4\n",
        "data_eng.THEME_CH[data_eng.THEME_CH == 'Somewhat agree [1]'] = 5\n",
        "data_eng.THEME_CH[data_eng.THEME_CH == 'Agree [2]'] = 6\n",
        "data_eng.THEME_CH[data_eng.THEME_CH == 'Strongly agree [3]'] = 7\n",
        "#data_eng['THEME_CH']= data_eng['THEME_CH'].astype(\"int\")\n",
        "\n",
        "data_eng.TIME_SPENT[data_eng.TIME_SPENT == 'Less than 15 minutes'] = 1\n",
        "data_eng.TIME_SPENT[data_eng.TIME_SPENT == '15-30 minutes'] = 2\n",
        "data_eng.TIME_SPENT[data_eng.TIME_SPENT == '31-45 minutes'] = 3\n",
        "data_eng.TIME_SPENT[data_eng.TIME_SPENT == 'More than 45 minutes'] = 4\n",
        "#data_eng['TIME_SPENT']= data_eng['TIME_SPENT'].astype(\"int\")\n",
        "\n",
        "\n",
        "\n",
        "data_eng.BROAD_AISLES_MO[data_eng.BROAD_AISLES_MO == 'Strongly disagree [-3]'] = 1\n",
        "data_eng.BROAD_AISLES_MO[data_eng.BROAD_AISLES_MO == 'Disagree [-2]'] = 2\n",
        "data_eng.BROAD_AISLES_MO[data_eng.BROAD_AISLES_MO == 'Somewhat disagree [-1]'] = 3\n",
        "data_eng.BROAD_AISLES_MO[data_eng.BROAD_AISLES_MO == 'Neutral [0]'] = 4\n",
        "data_eng.BROAD_AISLES_MO[data_eng.BROAD_AISLES_MO == 'Somewhat agree [1]'] = 5\n",
        "data_eng.BROAD_AISLES_MO[data_eng.BROAD_AISLES_MO == 'Agree [2]'] = 6\n",
        "data_eng.BROAD_AISLES_MO[data_eng.BROAD_AISLES_MO == 'Strongly agree [3]'] = 7\n",
        "#data_eng['BROAD_AISLES_MO']= data_eng['BROAD_AISLES_MO'].astype(\"int\")\n",
        "\n",
        "data_eng.COLOR_CODED_PROD_MO[data_eng.COLOR_CODED_PROD_MO == 'Strongly disagree [-3]'] = 1\n",
        "data_eng.COLOR_CODED_PROD_MO[data_eng.COLOR_CODED_PROD_MO == 'Disagree [-2]'] = 2\n",
        "data_eng.COLOR_CODED_PROD_MO[data_eng.COLOR_CODED_PROD_MO == 'Somewhat disagree [-1]'] = 3\n",
        "data_eng.COLOR_CODED_PROD_MO[data_eng.COLOR_CODED_PROD_MO == 'Neutral [0]'] = 4\n",
        "data_eng.COLOR_CODED_PROD_MO[data_eng.COLOR_CODED_PROD_MO == 'Somewhat agree [1]'] = 5\n",
        "data_eng.COLOR_CODED_PROD_MO[data_eng.COLOR_CODED_PROD_MO == 'Agree [2]'] = 6\n",
        "data_eng.COLOR_CODED_PROD_MO[data_eng.COLOR_CODED_PROD_MO == 'Strongly agree [3]'] = 7\n",
        "#data_eng['COLOR_CODED_PROD_MO']= data_eng['COLOR_CODED_PROD_MO'].astype(\"int\")\n",
        "\n",
        "data_eng.COLOR_CODED_PROD_MO[data_eng.COLOR_CODED_PROD_MO == 'Strongly disagree [-3]'] = 1\n",
        "data_eng.COLOR_CODED_PROD_MO[data_eng.COLOR_CODED_PROD_MO == 'Disagree [-2]'] = 2\n",
        "data_eng.COLOR_CODED_PROD_MO[data_eng.COLOR_CODED_PROD_MO == 'Somewhat disagree [-1]'] = 3\n",
        "data_eng.COLOR_CODED_PROD_MO[data_eng.COLOR_CODED_PROD_MO == 'Neutral [0]'] = 4\n",
        "data_eng.COLOR_CODED_PROD_MO[data_eng.COLOR_CODED_PROD_MO == 'Somewhat agree [1]'] = 5\n",
        "data_eng.COLOR_CODED_PROD_MO[data_eng.COLOR_CODED_PROD_MO == 'Agree [2]'] = 6\n",
        "data_eng.COLOR_CODED_PROD_MO[data_eng.COLOR_CODED_PROD_MO == 'Strongly agree [3]'] = 7\n",
        "#data_eng['COLOR_CODED_PROD_MO']= data_eng['COLOR_CODED_PROD_MO'].astype(\"int\")\n",
        "\n",
        "data_eng.MERCHANDISE_GROUP_MO[data_eng.MERCHANDISE_GROUP_MO == 'Strongly disagree [-3]'] = 1\n",
        "data_eng.MERCHANDISE_GROUP_MO[data_eng.MERCHANDISE_GROUP_MO == 'Disagree [-2]'] = 2\n",
        "data_eng.MERCHANDISE_GROUP_MO[data_eng.MERCHANDISE_GROUP_MO == 'Somewhat disagree [-1]'] = 3\n",
        "data_eng.MERCHANDISE_GROUP_MO[data_eng.MERCHANDISE_GROUP_MO == 'Neutral [0]'] = 4\n",
        "data_eng.MERCHANDISE_GROUP_MO[data_eng.MERCHANDISE_GROUP_MO == 'Somewhat agree [1]'] = 5\n",
        "data_eng.MERCHANDISE_GROUP_MO[data_eng.MERCHANDISE_GROUP_MO == 'Agree [2]'] = 6\n",
        "data_eng.MERCHANDISE_GROUP_MO[data_eng.MERCHANDISE_GROUP_MO == 'Strongly agree [3]'] = 7\n",
        "#data_eng['MERCHANDISE_GROUP_MO']= data_eng['MERCHANDISE_GROUP_MO'].astype(\"int\")\n",
        "\n",
        "data_eng.PRICE_TAGS_MO[data_eng.PRICE_TAGS_MO == 'Strongly disagree [-3]'] = 1\n",
        "data_eng.PRICE_TAGS_MO[data_eng.PRICE_TAGS_MO == 'Disagree [-2]'] = 2\n",
        "data_eng.PRICE_TAGS_MO[data_eng.PRICE_TAGS_MO == 'Somewhat disagree [-1]'] = 3\n",
        "data_eng.PRICE_TAGS_MO[data_eng.PRICE_TAGS_MO == 'Neutral [0]'] = 4\n",
        "data_eng.PRICE_TAGS_MO[data_eng.PRICE_TAGS_MO == 'Somewhat agree [1]'] = 5\n",
        "data_eng.PRICE_TAGS_MO[data_eng.PRICE_TAGS_MO == 'Agree [2]'] = 6\n",
        "data_eng.PRICE_TAGS_MO[data_eng.PRICE_TAGS_MO == 'Strongly agree [3]'] = 7\n",
        "#data_eng['PRICE_TAGS_MO']= data_eng['PRICE_TAGS_MO'].astype(\"int\")\n",
        "\n",
        "data_eng.CASH_DESKS_MO[data_eng.CASH_DESKS_MO == 'Strongly disagree [-3]'] = 1\n",
        "data_eng.CASH_DESKS_MO[data_eng.CASH_DESKS_MO == 'Disagree [-2]'] = 2\n",
        "data_eng.CASH_DESKS_MO[data_eng.CASH_DESKS_MO == 'Somewhat disagree [-1]'] = 3\n",
        "data_eng.CASH_DESKS_MO[data_eng.CASH_DESKS_MO == 'Neutral [0]'] = 4\n",
        "data_eng.CASH_DESKS_MO[data_eng.CASH_DESKS_MO == 'Somewhat agree [1]'] = 5\n",
        "data_eng.CASH_DESKS_MO[data_eng.CASH_DESKS_MO == 'Agree [2]'] = 6\n",
        "data_eng.CASH_DESKS_MO[data_eng.CASH_DESKS_MO == 'Strongly agree [3]'] = 7\n",
        "#data_eng['CASH_DESKS_MO']= data_eng['CASH_DESKS_MO'].astype(\"int\")\n",
        "\n",
        "data_eng.FRONT_DISPLAY_MO[data_eng.FRONT_DISPLAY_MO == 'Strongly disagree [-3]'] = 1\n",
        "data_eng.FRONT_DISPLAY_MO[data_eng.FRONT_DISPLAY_MO == 'Disagree [-2]'] = 2\n",
        "data_eng.FRONT_DISPLAY_MO[data_eng.FRONT_DISPLAY_MO == 'Somewhat disagree [-1]'] = 3\n",
        "data_eng.FRONT_DISPLAY_MO[data_eng.FRONT_DISPLAY_MO == 'Neutral [0]'] = 4\n",
        "data_eng.FRONT_DISPLAY_MO[data_eng.FRONT_DISPLAY_MO == 'Somewhat agree [1]'] = 5\n",
        "data_eng.FRONT_DISPLAY_MO[data_eng.FRONT_DISPLAY_MO == 'Agree [2]'] = 6\n",
        "data_eng.FRONT_DISPLAY_MO[data_eng.FRONT_DISPLAY_MO == 'Strongly agree [3]'] = 7\n",
        "#data_eng['FRONT_DISPLAY_MO']= data_eng['FRONT_DISPLAY_MO'].astype(\"int\")\n",
        "\n",
        "data_eng.FLOOR_SPACE_MO[data_eng.FLOOR_SPACE_MO == 'Strongly disagree [-3]'] = 1\n",
        "data_eng.FLOOR_SPACE_MO[data_eng.FLOOR_SPACE_MO == 'Disagree [-2]'] = 2\n",
        "data_eng.FLOOR_SPACE_MO[data_eng.FLOOR_SPACE_MO == 'Somewhat disagree [-1]'] = 3\n",
        "data_eng.FLOOR_SPACE_MO[data_eng.FLOOR_SPACE_MO == 'Neutral [0]'] = 4\n",
        "data_eng.FLOOR_SPACE_MO[data_eng.FLOOR_SPACE_MO == 'Somewhat agree [1]'] = 5\n",
        "data_eng.FLOOR_SPACE_MO[data_eng.FLOOR_SPACE_MO == 'Agree [2]'] = 6\n",
        "data_eng.FLOOR_SPACE_MO[data_eng.FLOOR_SPACE_MO == 'Strongly agree [3]'] = 7\n",
        "#data_eng['FLOOR_SPACE_MO']= data_eng['FLOOR_SPACE_MO'].astype(\"int\")\n",
        "\n",
        "##\n",
        "\n",
        "data_eng.BROAD_AISLES_CH[data_eng.BROAD_AISLES_CH == 'Strongly disagree [-3]'] = 1\n",
        "data_eng.BROAD_AISLES_CH[data_eng.BROAD_AISLES_CH == 'Disagree [-2]'] = 2\n",
        "data_eng.BROAD_AISLES_CH[data_eng.BROAD_AISLES_CH == 'Somewhat disagree [-1]'] = 3\n",
        "data_eng.BROAD_AISLES_CH[data_eng.BROAD_AISLES_CH == 'Neutral [0]'] = 4\n",
        "data_eng.BROAD_AISLES_CH[data_eng.BROAD_AISLES_CH == 'Somewhat agree [1]'] = 5\n",
        "data_eng.BROAD_AISLES_CH[data_eng.BROAD_AISLES_CH == 'Agree [2]'] = 6\n",
        "data_eng.BROAD_AISLES_CH[data_eng.BROAD_AISLES_CH == 'Strongly agree [3]'] = 7\n",
        "#data_eng['BROAD_AISLES_CH']= data_eng['BROAD_AISLES_CH'].astype(\"int\")\n",
        "\n",
        "data_eng.COLOR_CODED_PROD_CH[data_eng.COLOR_CODED_PROD_CH == 'Strongly disagree [-3]'] = 1\n",
        "data_eng.COLOR_CODED_PROD_CH[data_eng.COLOR_CODED_PROD_CH == 'Disagree [-2]'] = 2\n",
        "data_eng.COLOR_CODED_PROD_CH[data_eng.COLOR_CODED_PROD_CH == 'Somewhat disagree [-1]'] = 3\n",
        "data_eng.COLOR_CODED_PROD_CH[data_eng.COLOR_CODED_PROD_CH == 'Neutral [0]'] = 4\n",
        "data_eng.COLOR_CODED_PROD_CH[data_eng.COLOR_CODED_PROD_CH == 'Somewhat agree [1]'] = 5\n",
        "data_eng.COLOR_CODED_PROD_CH[data_eng.COLOR_CODED_PROD_CH == 'Agree [2]'] = 6\n",
        "data_eng.COLOR_CODED_PROD_CH[data_eng.COLOR_CODED_PROD_CH == 'Strongly agree [3]'] = 7\n",
        "#data_eng['COLOR_CODED_PROD_CH']= data_eng['COLOR_CODED_PROD_CH'].astype(\"int\")\n",
        "\n",
        "data_eng.COLOR_CODED_PROD_CH[data_eng.COLOR_CODED_PROD_CH == 'Strongly disagree [-3]'] = 1\n",
        "data_eng.COLOR_CODED_PROD_CH[data_eng.COLOR_CODED_PROD_CH == 'Disagree [-2]'] = 2\n",
        "data_eng.COLOR_CODED_PROD_CH[data_eng.COLOR_CODED_PROD_CH == 'Somewhat disagree [-1]'] = 3\n",
        "data_eng.COLOR_CODED_PROD_CH[data_eng.COLOR_CODED_PROD_CH == 'Neutral [0]'] = 4\n",
        "data_eng.COLOR_CODED_PROD_CH[data_eng.COLOR_CODED_PROD_CH == 'Somewhat agree [1]'] = 5\n",
        "data_eng.COLOR_CODED_PROD_CH[data_eng.COLOR_CODED_PROD_CH == 'Agree [2]'] = 6\n",
        "data_eng.COLOR_CODED_PROD_CH[data_eng.COLOR_CODED_PROD_CH == 'Strongly agree [3]'] = 7\n",
        "#data_eng['COLOR_CODED_PROD_CH']= data_eng['COLOR_CODED_PROD_CH'].astype(\"int\")\n",
        "\n",
        "data_eng.MERCHANDISE_GROUP_CH[data_eng.MERCHANDISE_GROUP_CH == 'Strongly disagree [-3]'] = 1\n",
        "data_eng.MERCHANDISE_GROUP_CH[data_eng.MERCHANDISE_GROUP_CH == 'Disagree [-2]'] = 2\n",
        "data_eng.MERCHANDISE_GROUP_CH[data_eng.MERCHANDISE_GROUP_CH == 'Somewhat disagree [-1]'] = 3\n",
        "data_eng.MERCHANDISE_GROUP_CH[data_eng.MERCHANDISE_GROUP_CH == 'Neutral [0]'] = 4\n",
        "data_eng.MERCHANDISE_GROUP_CH[data_eng.MERCHANDISE_GROUP_CH == 'Somewhat agree [1]'] = 5\n",
        "data_eng.MERCHANDISE_GROUP_CH[data_eng.MERCHANDISE_GROUP_CH == 'Agree [2]'] = 6\n",
        "data_eng.MERCHANDISE_GROUP_CH[data_eng.MERCHANDISE_GROUP_CH == 'Strongly agree [3]'] = 7\n",
        "#data_eng['MERCHANDISE_GROUP_CH']= data_eng['MERCHANDISE_GROUP_CH'].astype(\"int\")\n",
        "\n",
        "data_eng.PRICE_TAGS_CH[data_eng.PRICE_TAGS_CH == 'Strongly disagree [-3]'] = 1\n",
        "data_eng.PRICE_TAGS_CH[data_eng.PRICE_TAGS_CH == 'Disagree [-2]'] = 2\n",
        "data_eng.PRICE_TAGS_CH[data_eng.PRICE_TAGS_CH == 'Somewhat disagree [-1]'] = 3\n",
        "data_eng.PRICE_TAGS_CH[data_eng.PRICE_TAGS_CH == 'Neutral [0]'] = 4\n",
        "data_eng.PRICE_TAGS_CH[data_eng.PRICE_TAGS_CH == 'Somewhat agree [1]'] = 5\n",
        "data_eng.PRICE_TAGS_CH[data_eng.PRICE_TAGS_CH == 'Agree [2]'] = 6\n",
        "data_eng.PRICE_TAGS_CH[data_eng.PRICE_TAGS_CH == 'Strongly agree [3]'] = 7\n",
        "#data_eng['PRICE_TAGS_CH']= data_eng['PRICE_TAGS_CH'].astype(\"int\")\n",
        "\n",
        "data_eng.CASH_DESKS_CH[data_eng.CASH_DESKS_CH == 'Strongly disagree [-3]'] = 1\n",
        "data_eng.CASH_DESKS_CH[data_eng.CASH_DESKS_CH == 'Disagree [-2]'] = 2\n",
        "data_eng.CASH_DESKS_CH[data_eng.CASH_DESKS_CH == 'Somewhat disagree [-1]'] = 3\n",
        "data_eng.CASH_DESKS_CH[data_eng.CASH_DESKS_CH == 'Neutral [0]'] = 4\n",
        "data_eng.CASH_DESKS_CH[data_eng.CASH_DESKS_CH == 'Somewhat agree [1]'] = 5\n",
        "data_eng.CASH_DESKS_CH[data_eng.CASH_DESKS_CH == 'Agree [2]'] = 6\n",
        "data_eng.CASH_DESKS_CH[data_eng.CASH_DESKS_CH == 'Strongly agree [3]'] = 7\n",
        "#data_eng['CASH_DESKS_CH']= data_eng['CASH_DESKS_CH'].astype(\"int\")\n",
        "\n",
        "data_eng.FRONT_DISPLAY_CH[data_eng.FRONT_DISPLAY_CH == 'Strongly disagree [-3]'] = 1\n",
        "data_eng.FRONT_DISPLAY_CH[data_eng.FRONT_DISPLAY_CH == 'Disagree [-2]'] = 2\n",
        "data_eng.FRONT_DISPLAY_CH[data_eng.FRONT_DISPLAY_CH == 'Somewhat disagree [-1]'] = 3\n",
        "data_eng.FRONT_DISPLAY_CH[data_eng.FRONT_DISPLAY_CH == 'Neutral [0]'] = 4\n",
        "data_eng.FRONT_DISPLAY_CH[data_eng.FRONT_DISPLAY_CH == 'Somewhat agree [1]'] = 5\n",
        "data_eng.FRONT_DISPLAY_CH[data_eng.FRONT_DISPLAY_CH == 'Agree [2]'] = 6\n",
        "data_eng.FRONT_DISPLAY_CH[data_eng.FRONT_DISPLAY_CH == 'Strongly agree [3]'] = 7\n",
        "#data_eng['FRONT_DISPLAY_CH']= data_eng['FRONT_DISPLAY_CH'].astype(\"int\")\n",
        "\n",
        "data_eng.FLOOR_SPACE_CH[data_eng.FLOOR_SPACE_CH == 'Strongly disagree [-3]'] = 1\n",
        "data_eng.FLOOR_SPACE_CH[data_eng.FLOOR_SPACE_CH == 'Disagree [-2]'] = 2\n",
        "data_eng.FLOOR_SPACE_CH[data_eng.FLOOR_SPACE_CH == 'Somewhat disagree [-1]'] = 3\n",
        "data_eng.FLOOR_SPACE_CH[data_eng.FLOOR_SPACE_CH == 'Neutral [0]'] = 4\n",
        "data_eng.FLOOR_SPACE_CH[data_eng.FLOOR_SPACE_CH == 'Somewhat agree [1]'] = 5\n",
        "data_eng.FLOOR_SPACE_CH[data_eng.FLOOR_SPACE_CH == 'Agree [2]'] = 6\n",
        "data_eng.FLOOR_SPACE_CH[data_eng.FLOOR_SPACE_CH == 'Strongly agree [3]'] = 7\n",
        "#data_eng['FLOOR_SPACE_CH']= data_eng['FLOOR_SPACE_CH'].astype(\"int\")\n",
        "\n",
        "\n",
        "data_eng['EXCITEMENT'] = data_eng['EXCITEMENT'].fillna(0)\n",
        "data_eng.EXCITEMENT[data_eng.EXCITEMENT == 'Excitement'] = 1\n",
        "#data_eng['EXCITEMENT']= data_eng['EXCITEMENT'].astype(\"int\")\n",
        "\n",
        "data_eng['CONFIDENCE'] = data_eng['CONFIDENCE'].fillna(0)\n",
        "data_eng.CONFIDENCE[data_eng.CONFIDENCE == 'Confidence'] = 1\n",
        "#data_eng['CONFIDENCE']= data_eng['CONFIDENCE'].astype(\"int\")\n",
        "\n",
        "data_eng['SATISFACTION'] = data_eng['SATISFACTION'].fillna(0)\n",
        "data_eng.SATISFACTION[data_eng.SATISFACTION == 'Satisfaction'] = 1\n",
        "#data_eng['SATISFACTION']= data_eng['SATISFACTION'].astype(\"int\")\n",
        "\n",
        "data_eng['HARMONY'] = data_eng['HARMONY'].fillna(0)\n",
        "data_eng.HARMONY[data_eng.HARMONY == 'Harmony'] = 1\n",
        "#data_eng['HARMONY']= data_eng['HARMONY'].astype(\"int\")\n",
        "\n",
        "data_eng['HUNGER'] = data_eng['HUNGER'].fillna(0)\n",
        "data_eng.HUNGER[data_eng.HUNGER == 'Hunger'] = 1\n",
        "#data_eng['HUNGER']= data_eng['HUNGER'].astype(\"int\")\n",
        "\n",
        "data_eng['SADNESS'] = data_eng['SADNESS'].fillna(0)\n",
        "data_eng.SADNESS[data_eng.SADNESS == 'Sadness'] = 1\n",
        "#data_eng['SADNESS']= data_eng['SADNESS'].astype(\"int\")\n",
        "\n",
        "data_eng['TIREDNESS'] = data_eng['TIREDNESS'].fillna(0)\n",
        "data_eng.TIREDNESS[data_eng.TIREDNESS == 'Tiredness'] = 1\n",
        "#data_eng['TIREDNESS']= data_eng['TIREDNESS'].astype(\"int\")\n",
        "\n",
        "data_eng['ANGER'] = data_eng['ANGER'].fillna(0)\n",
        "data_eng.ANGER[data_eng.ANGER == 'Anger'] = 1\n",
        "#data_eng['ANGER']= data_eng['ANGER'].astype(\"int\")\n",
        "\n",
        "\n",
        "\n",
        "data_eng.GENDER[data_eng.GENDER == 'Female'] = 1\n",
        "data_eng.GENDER[data_eng.GENDER == 'Male'] = 2\n",
        "data_eng.drop(data_eng.index[data_eng['GENDER']==\"Other\"], inplace = True)\n",
        "#data_eng['GENDER']= data_eng['GENDER'].astype(\"int\")\n",
        "\n",
        "\n",
        "data_eng.AGE[data_eng.AGE == '15-24'] = 1\n",
        "data_eng.AGE[data_eng.AGE == '25-34'] = 2\n",
        "data_eng.AGE[data_eng.AGE == '35-44'] = 3\n",
        "data_eng.AGE[data_eng.AGE == '45-54'] = 4\n",
        "data_eng.AGE[data_eng.AGE == '55-64'] = 5\n",
        "data_eng.AGE[data_eng.AGE == '65 and older'] = 6\n",
        "data_eng.AGE[data_eng.AGE == 'Prefer not to answer'] = 7\n",
        "#data_eng['AGE']= data_eng['AGE'].astype(\"int\")\n",
        "\n",
        "\n",
        "data_eng.EDUC_LVL[data_eng.EDUC_LVL == 'Primary'] = 1\n",
        "data_eng.EDUC_LVL[data_eng.EDUC_LVL == 'Secondary'] = 2\n",
        "data_eng.EDUC_LVL[data_eng.EDUC_LVL == 'Primary professional'] = 3\n",
        "data_eng.EDUC_LVL[data_eng.EDUC_LVL == 'Secondary professional'] = 4\n",
        "data_eng.EDUC_LVL[data_eng.EDUC_LVL == 'Higher professional'] = 5\n",
        "data_eng.EDUC_LVL[data_eng.EDUC_LVL == 'higher professional'] = 5\n",
        "data_eng.EDUC_LVL[data_eng.EDUC_LVL == 'Post-graduate professional'] = 6\n",
        "data_eng.EDUC_LVL[data_eng.EDUC_LVL == 'Prefer not to answer'] = 7\n",
        "data_eng.drop(data_eng.index[data_eng['EDUC_LVL']==\"Other, please specify\"], inplace = True)\n",
        "#data_eng['EDUC_LVL']= data_eng['EDUC_LVL'].astype(\"int\")\n",
        "\n",
        "\n",
        "data_eng.AREA[data_eng.AREA == 'Urban area'] = 1\n",
        "data_eng.AREA[data_eng.AREA == 'Rural area'] = 2\n",
        "data_eng.AREA[data_eng.AREA == 'Prefer not to answer'] = 3\n",
        "#data_eng['AREA']= data_eng['AREA'].astype(\"int\")\n",
        "\n",
        "\n",
        "data_eng.MRITAL_STATUS[data_eng.MRITAL_STATUS == 'Never married'] = 1\n",
        "data_eng.MRITAL_STATUS[data_eng.MRITAL_STATUS == 'Married (registered)'] = 2\n",
        "data_eng.MRITAL_STATUS[data_eng.MRITAL_STATUS == 'Divorced (registered)'] = 3\n",
        "data_eng.MRITAL_STATUS[data_eng.MRITAL_STATUS == 'Widowed'] = 4\n",
        "data_eng.MRITAL_STATUS[data_eng.MRITAL_STATUS == 'Prefer not to answer'] = 5\n",
        "data_eng.drop(data_eng.index[data_eng['MRITAL_STATUS']==\"Other, please specify\"], inplace = True)\n",
        "#data_eng['MRITAL_STATUS']= data_eng['MRITAL_STATUS'].astype(\"int\")\n",
        "\n",
        "\n",
        "\n",
        "data_eng.ECON_CHAR[data_eng.ECON_CHAR == 'Economically active*'] = 1\n",
        "data_eng.ECON_CHAR[data_eng.ECON_CHAR == 'Employed'] = 2\n",
        "data_eng.ECON_CHAR[data_eng.ECON_CHAR == 'Unemployed'] = 3\n",
        "data_eng.ECON_CHAR[data_eng.ECON_CHAR == 'Economically inactive (attending educational institution, old age/health, engaged in household duties, going to leave the country)'] = 4\n",
        "data_eng.ECON_CHAR[data_eng.ECON_CHAR == 'Prefer not to answer'] = 5\n",
        "#data_eng['ECON_CHAR']= data_eng['ECON_CHAR'].astype(\"int\")\n",
        "\n",
        "\n",
        "data_eng.MONTH_INCOME[data_eng.MONTH_INCOME == '68,000AMD or less'] = 1\n",
        "data_eng.MONTH_INCOME[data_eng.MONTH_INCOME == '69,000AMD - 138,000AMD'] = 2\n",
        "data_eng.MONTH_INCOME[data_eng.MONTH_INCOME == '139,000AMD - 208,000AMD'] = 3\n",
        "data_eng.MONTH_INCOME[data_eng.MONTH_INCOME == '209,000AMD - 278,000AMD'] = 4\n",
        "data_eng.MONTH_INCOME[data_eng.MONTH_INCOME == '279,000AMD - 348,000AMD'] = 5\n",
        "data_eng.MONTH_INCOME[data_eng.MONTH_INCOME == '349,000AMD and higher'] = 6\n",
        "data_eng.MONTH_INCOME[data_eng.MONTH_INCOME == 'Prefer not to answer'] = 7\n",
        "#data_eng['MONTH_INCOME']= data_eng['MONTH_INCOME'].astype(\"int\")\n",
        "\n"
      ],
      "execution_count": null,
      "outputs": []
    },
    {
      "cell_type": "code",
      "metadata": {
        "colab": {
          "base_uri": "https://localhost:8080/",
          "height": 224
        },
        "id": "nkTavupfwlw0",
        "outputId": "f9eacbd3-ea1b-48ec-c21a-921162eb6ace"
      },
      "source": [
        "data_eng.head()"
      ],
      "execution_count": null,
      "outputs": [
        {
          "output_type": "execute_result",
          "data": {
            "text/html": [
              "<div>\n",
              "<style scoped>\n",
              "    .dataframe tbody tr th:only-of-type {\n",
              "        vertical-align: middle;\n",
              "    }\n",
              "\n",
              "    .dataframe tbody tr th {\n",
              "        vertical-align: top;\n",
              "    }\n",
              "\n",
              "    .dataframe thead th {\n",
              "        text-align: right;\n",
              "    }\n",
              "</style>\n",
              "<table border=\"1\" class=\"dataframe\">\n",
              "  <thead>\n",
              "    <tr style=\"text-align: right;\">\n",
              "      <th></th>\n",
              "      <th>SUPERMARKET_ATT</th>\n",
              "      <th>SCENT_T</th>\n",
              "      <th>TEMPERATURE_T</th>\n",
              "      <th>MUSIC_T</th>\n",
              "      <th>LIGHTING_T</th>\n",
              "      <th>FLOORING_T</th>\n",
              "      <th>CLEANLINESS_T</th>\n",
              "      <th>PERSONNEL_T</th>\n",
              "      <th>THEME_T</th>\n",
              "      <th>SCENT_CH</th>\n",
              "      <th>TEMPERATURE_CH</th>\n",
              "      <th>MUSIC_CH</th>\n",
              "      <th>LIGHTING_CH</th>\n",
              "      <th>FLOORING_CH</th>\n",
              "      <th>CLEANLINESS_CH</th>\n",
              "      <th>PERSONNEL_CH</th>\n",
              "      <th>THEME_CH</th>\n",
              "      <th>TIME_SPENT</th>\n",
              "      <th>BROAD_AISLES_MO</th>\n",
              "      <th>COLOR_CODED_PROD_MO</th>\n",
              "      <th>MERCHANDISE_GROUP_MO</th>\n",
              "      <th>PRICE_TAGS_MO</th>\n",
              "      <th>CASH_DESKS_MO</th>\n",
              "      <th>FRONT_DISPLAY_MO</th>\n",
              "      <th>FLOOR_SPACE_MO</th>\n",
              "      <th>BROAD_AISLES_CH</th>\n",
              "      <th>COLOR_CODED_PROD_CH</th>\n",
              "      <th>MERCHANDISE_GROUP_CH</th>\n",
              "      <th>PRICE_TAGS_CH</th>\n",
              "      <th>CASH_DESKS_CH</th>\n",
              "      <th>FRONT_DISPLAY_CH</th>\n",
              "      <th>FLOOR_SPACE_CH</th>\n",
              "      <th>EXCITEMENT</th>\n",
              "      <th>CONFIDENCE</th>\n",
              "      <th>SATISFACTION</th>\n",
              "      <th>HARMONY</th>\n",
              "      <th>HUNGER</th>\n",
              "      <th>SADNESS</th>\n",
              "      <th>TIREDNESS</th>\n",
              "      <th>ANGER</th>\n",
              "      <th>GENDER</th>\n",
              "      <th>AGE</th>\n",
              "      <th>EDUC_LVL</th>\n",
              "      <th>AREA</th>\n",
              "      <th>MRITAL_STATUS</th>\n",
              "      <th>ECON_CHAR</th>\n",
              "      <th>MONTH_INCOME</th>\n",
              "    </tr>\n",
              "  </thead>\n",
              "  <tbody>\n",
              "    <tr>\n",
              "      <th>0</th>\n",
              "      <td>1</td>\n",
              "      <td>7</td>\n",
              "      <td>6</td>\n",
              "      <td>6</td>\n",
              "      <td>7</td>\n",
              "      <td>6</td>\n",
              "      <td>7</td>\n",
              "      <td>7</td>\n",
              "      <td>6</td>\n",
              "      <td>6</td>\n",
              "      <td>6</td>\n",
              "      <td>6</td>\n",
              "      <td>7</td>\n",
              "      <td>7</td>\n",
              "      <td>7</td>\n",
              "      <td>7</td>\n",
              "      <td>7</td>\n",
              "      <td>2</td>\n",
              "      <td>7</td>\n",
              "      <td>4</td>\n",
              "      <td>6</td>\n",
              "      <td>4</td>\n",
              "      <td>4</td>\n",
              "      <td>5</td>\n",
              "      <td>7</td>\n",
              "      <td>7</td>\n",
              "      <td>5</td>\n",
              "      <td>6</td>\n",
              "      <td>4</td>\n",
              "      <td>4</td>\n",
              "      <td>6</td>\n",
              "      <td>7</td>\n",
              "      <td>0</td>\n",
              "      <td>1</td>\n",
              "      <td>1</td>\n",
              "      <td>1</td>\n",
              "      <td>0</td>\n",
              "      <td>0</td>\n",
              "      <td>0</td>\n",
              "      <td>0</td>\n",
              "      <td>1</td>\n",
              "      <td>1</td>\n",
              "      <td>5</td>\n",
              "      <td>1</td>\n",
              "      <td>1</td>\n",
              "      <td>2</td>\n",
              "      <td>2</td>\n",
              "    </tr>\n",
              "    <tr>\n",
              "      <th>1</th>\n",
              "      <td>1</td>\n",
              "      <td>3</td>\n",
              "      <td>3</td>\n",
              "      <td>6</td>\n",
              "      <td>6</td>\n",
              "      <td>6</td>\n",
              "      <td>3</td>\n",
              "      <td>3</td>\n",
              "      <td>5</td>\n",
              "      <td>6</td>\n",
              "      <td>6</td>\n",
              "      <td>6</td>\n",
              "      <td>6</td>\n",
              "      <td>6</td>\n",
              "      <td>6</td>\n",
              "      <td>6</td>\n",
              "      <td>6</td>\n",
              "      <td>1</td>\n",
              "      <td>6</td>\n",
              "      <td>6</td>\n",
              "      <td>6</td>\n",
              "      <td>6</td>\n",
              "      <td>6</td>\n",
              "      <td>6</td>\n",
              "      <td>6</td>\n",
              "      <td>6</td>\n",
              "      <td>6</td>\n",
              "      <td>6</td>\n",
              "      <td>6</td>\n",
              "      <td>6</td>\n",
              "      <td>6</td>\n",
              "      <td>6</td>\n",
              "      <td>1</td>\n",
              "      <td>0</td>\n",
              "      <td>1</td>\n",
              "      <td>0</td>\n",
              "      <td>0</td>\n",
              "      <td>0</td>\n",
              "      <td>0</td>\n",
              "      <td>0</td>\n",
              "      <td>1</td>\n",
              "      <td>1</td>\n",
              "      <td>5</td>\n",
              "      <td>1</td>\n",
              "      <td>5</td>\n",
              "      <td>2</td>\n",
              "      <td>2</td>\n",
              "    </tr>\n",
              "    <tr>\n",
              "      <th>2</th>\n",
              "      <td>1</td>\n",
              "      <td>7</td>\n",
              "      <td>7</td>\n",
              "      <td>7</td>\n",
              "      <td>7</td>\n",
              "      <td>7</td>\n",
              "      <td>7</td>\n",
              "      <td>7</td>\n",
              "      <td>7</td>\n",
              "      <td>7</td>\n",
              "      <td>7</td>\n",
              "      <td>7</td>\n",
              "      <td>7</td>\n",
              "      <td>7</td>\n",
              "      <td>7</td>\n",
              "      <td>7</td>\n",
              "      <td>7</td>\n",
              "      <td>3</td>\n",
              "      <td>7</td>\n",
              "      <td>7</td>\n",
              "      <td>7</td>\n",
              "      <td>7</td>\n",
              "      <td>7</td>\n",
              "      <td>7</td>\n",
              "      <td>7</td>\n",
              "      <td>7</td>\n",
              "      <td>7</td>\n",
              "      <td>7</td>\n",
              "      <td>7</td>\n",
              "      <td>7</td>\n",
              "      <td>7</td>\n",
              "      <td>7</td>\n",
              "      <td>1</td>\n",
              "      <td>1</td>\n",
              "      <td>1</td>\n",
              "      <td>1</td>\n",
              "      <td>0</td>\n",
              "      <td>1</td>\n",
              "      <td>0</td>\n",
              "      <td>1</td>\n",
              "      <td>1</td>\n",
              "      <td>1</td>\n",
              "      <td>3</td>\n",
              "      <td>1</td>\n",
              "      <td>1</td>\n",
              "      <td>2</td>\n",
              "      <td>3</td>\n",
              "    </tr>\n",
              "    <tr>\n",
              "      <th>3</th>\n",
              "      <td>1</td>\n",
              "      <td>6</td>\n",
              "      <td>6</td>\n",
              "      <td>5</td>\n",
              "      <td>5</td>\n",
              "      <td>5</td>\n",
              "      <td>7</td>\n",
              "      <td>6</td>\n",
              "      <td>5</td>\n",
              "      <td>6</td>\n",
              "      <td>6</td>\n",
              "      <td>5</td>\n",
              "      <td>5</td>\n",
              "      <td>5</td>\n",
              "      <td>6</td>\n",
              "      <td>6</td>\n",
              "      <td>5</td>\n",
              "      <td>2</td>\n",
              "      <td>5</td>\n",
              "      <td>5</td>\n",
              "      <td>4</td>\n",
              "      <td>6</td>\n",
              "      <td>6</td>\n",
              "      <td>6</td>\n",
              "      <td>6</td>\n",
              "      <td>6</td>\n",
              "      <td>6</td>\n",
              "      <td>4</td>\n",
              "      <td>4</td>\n",
              "      <td>6</td>\n",
              "      <td>6</td>\n",
              "      <td>6</td>\n",
              "      <td>0</td>\n",
              "      <td>0</td>\n",
              "      <td>1</td>\n",
              "      <td>1</td>\n",
              "      <td>1</td>\n",
              "      <td>0</td>\n",
              "      <td>0</td>\n",
              "      <td>0</td>\n",
              "      <td>1</td>\n",
              "      <td>1</td>\n",
              "      <td>5</td>\n",
              "      <td>1</td>\n",
              "      <td>1</td>\n",
              "      <td>5</td>\n",
              "      <td>7</td>\n",
              "    </tr>\n",
              "    <tr>\n",
              "      <th>4</th>\n",
              "      <td>1</td>\n",
              "      <td>6</td>\n",
              "      <td>4</td>\n",
              "      <td>6</td>\n",
              "      <td>5</td>\n",
              "      <td>4</td>\n",
              "      <td>5</td>\n",
              "      <td>6</td>\n",
              "      <td>5</td>\n",
              "      <td>5</td>\n",
              "      <td>4</td>\n",
              "      <td>4</td>\n",
              "      <td>4</td>\n",
              "      <td>4</td>\n",
              "      <td>4</td>\n",
              "      <td>5</td>\n",
              "      <td>4</td>\n",
              "      <td>2</td>\n",
              "      <td>5</td>\n",
              "      <td>5</td>\n",
              "      <td>5</td>\n",
              "      <td>4</td>\n",
              "      <td>4</td>\n",
              "      <td>4</td>\n",
              "      <td>5</td>\n",
              "      <td>5</td>\n",
              "      <td>5</td>\n",
              "      <td>5</td>\n",
              "      <td>4</td>\n",
              "      <td>4</td>\n",
              "      <td>4</td>\n",
              "      <td>5</td>\n",
              "      <td>0</td>\n",
              "      <td>0</td>\n",
              "      <td>0</td>\n",
              "      <td>0</td>\n",
              "      <td>1</td>\n",
              "      <td>0</td>\n",
              "      <td>0</td>\n",
              "      <td>0</td>\n",
              "      <td>1</td>\n",
              "      <td>2</td>\n",
              "      <td>5</td>\n",
              "      <td>1</td>\n",
              "      <td>1</td>\n",
              "      <td>2</td>\n",
              "      <td>3</td>\n",
              "    </tr>\n",
              "  </tbody>\n",
              "</table>\n",
              "</div>"
            ],
            "text/plain": [
              "   SUPERMARKET_ATT SCENT_T TEMPERATURE_T  ... MRITAL_STATUS ECON_CHAR MONTH_INCOME\n",
              "0                1       7             6  ...             1         2            2\n",
              "1                1       3             3  ...             5         2            2\n",
              "2                1       7             7  ...             1         2            3\n",
              "3                1       6             6  ...             1         5            7\n",
              "4                1       6             4  ...             1         2            3\n",
              "\n",
              "[5 rows x 47 columns]"
            ]
          },
          "metadata": {
            "tags": []
          },
          "execution_count": 39
        }
      ]
    },
    {
      "cell_type": "code",
      "metadata": {
        "colab": {
          "base_uri": "https://localhost:8080/"
        },
        "id": "JwL6MEbOt-hB",
        "outputId": "7401630c-c21d-4e33-d61b-6d80a13366c9"
      },
      "source": [
        "print(\"Duplicates:\", data_eng.duplicated().sum())\n",
        "print(\"Missing values:\", data_eng.isna().sum().sum())\n",
        "print(\"Single valued columns:\", data_eng.columns[data_eng.nunique()==1])"
      ],
      "execution_count": null,
      "outputs": [
        {
          "output_type": "stream",
          "text": [
            "Duplicates: 1\n",
            "Missing values: 217\n",
            "Single valued columns: Index([], dtype='object')\n"
          ],
          "name": "stdout"
        }
      ]
    },
    {
      "cell_type": "code",
      "metadata": {
        "id": "q9ECnnm6-ijW"
      },
      "source": [
        "data_eng.to_excel(\"thesis_data_eng1.xlsx\")"
      ],
      "execution_count": null,
      "outputs": []
    },
    {
      "cell_type": "code",
      "metadata": {
        "id": "gW2-YwTyOJq6"
      },
      "source": [
        "data_eng.drop_duplicates()\n",
        "data_eng = data_eng.dropna(axis = 0, how ='any')"
      ],
      "execution_count": null,
      "outputs": []
    },
    {
      "cell_type": "code",
      "metadata": {
        "colab": {
          "base_uri": "https://localhost:8080/"
        },
        "id": "KGcShNRJPiC3",
        "outputId": "877aa6a9-5208-4f21-f760-454501eede72"
      },
      "source": [
        "print(\"Duplicates:\", data_eng.duplicated().sum())\n",
        "print(\"Missing values:\", data_eng.isna().sum().sum())"
      ],
      "execution_count": null,
      "outputs": [
        {
          "output_type": "stream",
          "text": [
            "Duplicates: 0\n",
            "Missing values: 0\n"
          ],
          "name": "stdout"
        }
      ]
    },
    {
      "cell_type": "code",
      "metadata": {
        "colab": {
          "base_uri": "https://localhost:8080/"
        },
        "id": "5RIEiPNgYNe7",
        "outputId": "4a13fe07-6772-41b6-cc0f-c2051cf29628"
      },
      "source": [
        "data_eng.info()"
      ],
      "execution_count": null,
      "outputs": [
        {
          "output_type": "stream",
          "text": [
            "<class 'pandas.core.frame.DataFrame'>\n",
            "Int64Index: 139 entries, 0 to 147\n",
            "Data columns (total 47 columns):\n",
            " #   Column                Non-Null Count  Dtype \n",
            "---  ------                --------------  ----- \n",
            " 0   SUPERMARKET_ATT       139 non-null    int64 \n",
            " 1   SCENT_T               139 non-null    object\n",
            " 2   TEMPERATURE_T         139 non-null    object\n",
            " 3   MUSIC_T               139 non-null    object\n",
            " 4   LIGHTING_T            139 non-null    object\n",
            " 5   FLOORING_T            139 non-null    object\n",
            " 6   CLEANLINESS_T         139 non-null    object\n",
            " 7   PERSONNEL_T           139 non-null    object\n",
            " 8   THEME_T               139 non-null    object\n",
            " 9   SCENT_CH              139 non-null    object\n",
            " 10  TEMPERATURE_CH        139 non-null    object\n",
            " 11  MUSIC_CH              139 non-null    object\n",
            " 12  LIGHTING_CH           139 non-null    object\n",
            " 13  FLOORING_CH           139 non-null    object\n",
            " 14  CLEANLINESS_CH        139 non-null    object\n",
            " 15  PERSONNEL_CH          139 non-null    object\n",
            " 16  THEME_CH              139 non-null    object\n",
            " 17  TIME_SPENT            139 non-null    object\n",
            " 18  BROAD_AISLES_MO       139 non-null    object\n",
            " 19  COLOR_CODED_PROD_MO   139 non-null    object\n",
            " 20  MERCHANDISE_GROUP_MO  139 non-null    object\n",
            " 21  PRICE_TAGS_MO         139 non-null    object\n",
            " 22  CASH_DESKS_MO         139 non-null    object\n",
            " 23  FRONT_DISPLAY_MO      139 non-null    object\n",
            " 24  FLOOR_SPACE_MO        139 non-null    object\n",
            " 25  BROAD_AISLES_CH       139 non-null    object\n",
            " 26  COLOR_CODED_PROD_CH   139 non-null    object\n",
            " 27  MERCHANDISE_GROUP_CH  139 non-null    object\n",
            " 28  PRICE_TAGS_CH         139 non-null    object\n",
            " 29  CASH_DESKS_CH         139 non-null    object\n",
            " 30  FRONT_DISPLAY_CH      139 non-null    object\n",
            " 31  FLOOR_SPACE_CH        139 non-null    object\n",
            " 32  EXCITEMENT            139 non-null    object\n",
            " 33  CONFIDENCE            139 non-null    object\n",
            " 34  SATISFACTION          139 non-null    object\n",
            " 35  HARMONY               139 non-null    object\n",
            " 36  HUNGER                139 non-null    object\n",
            " 37  SADNESS               139 non-null    object\n",
            " 38  TIREDNESS             139 non-null    object\n",
            " 39  ANGER                 139 non-null    object\n",
            " 40  GENDER                139 non-null    object\n",
            " 41  AGE                   139 non-null    object\n",
            " 42  EDUC_LVL              139 non-null    object\n",
            " 43  AREA                  139 non-null    object\n",
            " 44  MRITAL_STATUS         139 non-null    object\n",
            " 45  ECON_CHAR             139 non-null    object\n",
            " 46  MONTH_INCOME          139 non-null    object\n",
            "dtypes: int64(1), object(46)\n",
            "memory usage: 52.1+ KB\n"
          ],
          "name": "stdout"
        }
      ]
    },
    {
      "cell_type": "code",
      "metadata": {
        "id": "rK7sgHuNYToz"
      },
      "source": [
        "data_eng['SCENT_T']= data_eng['SCENT_T'].astype(\"int\")\n",
        "data_eng['TEMPERATURE_T']= data_eng['TEMPERATURE_T'].astype(\"int\")\n",
        "data_eng['MUSIC_T']= data_eng['MUSIC_T'].astype(\"int\")\n",
        "data_eng['LIGHTING_T']= data_eng['LIGHTING_T'].astype(\"int\")\n",
        "data_eng['FLOORING_T']= data_eng['FLOORING_T'].astype(\"int\")\n",
        "data_eng['CLEANLINESS_T']= data_eng['CLEANLINESS_T'].astype(\"int\")\n",
        "data_eng['PERSONNEL_T']= data_eng['PERSONNEL_T'].astype(\"int\")\n",
        "data_eng['THEME_T']= data_eng['THEME_T'].astype(\"int\")\n",
        "data_eng['SCENT_CH']= data_eng['SCENT_CH'].astype(\"int\")\n",
        "data_eng['TEMPERATURE_CH']= data_eng['TEMPERATURE_CH'].astype(\"int\")\n",
        "data_eng['MUSIC_CH']= data_eng['MUSIC_CH'].astype(\"int\")\n",
        "data_eng['LIGHTING_CH']= data_eng['LIGHTING_CH'].astype(\"int\")\n",
        "data_eng['FLOORING_CH']= data_eng['FLOORING_CH'].astype(\"int\")\n",
        "data_eng['CLEANLINESS_CH']= data_eng['CLEANLINESS_CH'].astype(\"int\")\n",
        "data_eng['PERSONNEL_CH']= data_eng['PERSONNEL_CH'].astype(\"int\")\n",
        "data_eng['THEME_CH']= data_eng['THEME_CH'].astype(\"int\")\n",
        "data_eng['TIME_SPENT']= data_eng['TIME_SPENT'].astype(\"int\")\n",
        "data_eng['BROAD_AISLES_MO']= data_eng['BROAD_AISLES_MO'].astype(\"int\")\n",
        "data_eng['COLOR_CODED_PROD_MO']= data_eng['COLOR_CODED_PROD_MO'].astype(\"int\")\n",
        "data_eng['COLOR_CODED_PROD_MO']= data_eng['COLOR_CODED_PROD_MO'].astype(\"int\")\n",
        "data_eng['MERCHANDISE_GROUP_MO']= data_eng['MERCHANDISE_GROUP_MO'].astype(\"int\")\n",
        "data_eng['PRICE_TAGS_MO']= data_eng['PRICE_TAGS_MO'].astype(\"int\")\n",
        "data_eng['CASH_DESKS_MO']= data_eng['CASH_DESKS_MO'].astype(\"int\")\n",
        "data_eng['FRONT_DISPLAY_MO']= data_eng['FRONT_DISPLAY_MO'].astype(\"int\")\n",
        "data_eng['FLOOR_SPACE_MO']= data_eng['FLOOR_SPACE_MO'].astype(\"int\")\n",
        "data_eng['BROAD_AISLES_CH']= data_eng['BROAD_AISLES_CH'].astype(\"int\")\n",
        "data_eng['COLOR_CODED_PROD_CH']= data_eng['COLOR_CODED_PROD_CH'].astype(\"int\")\n",
        "data_eng['COLOR_CODED_PROD_CH']= data_eng['COLOR_CODED_PROD_CH'].astype(\"int\")\n",
        "data_eng['MERCHANDISE_GROUP_CH']= data_eng['MERCHANDISE_GROUP_CH'].astype(\"int\")\n",
        "data_eng['PRICE_TAGS_CH']= data_eng['PRICE_TAGS_CH'].astype(\"int\")\n",
        "data_eng['CASH_DESKS_CH']= data_eng['CASH_DESKS_CH'].astype(\"int\")\n",
        "data_eng['FRONT_DISPLAY_CH']= data_eng['FRONT_DISPLAY_CH'].astype(\"int\")\n",
        "data_eng['FLOOR_SPACE_CH']= data_eng['FLOOR_SPACE_CH'].astype(\"int\")\n",
        "data_eng['EXCITEMENT']= data_eng['EXCITEMENT'].astype(\"int\")\n",
        "data_eng['CONFIDENCE']= data_eng['CONFIDENCE'].astype(\"int\")\n",
        "data_eng['SATISFACTION']= data_eng['SATISFACTION'].astype(\"int\")\n",
        "data_eng['HARMONY']= data_eng['HARMONY'].astype(\"int\")\n",
        "data_eng['HUNGER']= data_eng['HUNGER'].astype(\"int\")\n",
        "data_eng['SADNESS']= data_eng['SADNESS'].astype(\"int\")\n",
        "data_eng['TIREDNESS']= data_eng['TIREDNESS'].astype(\"int\")\n",
        "data_eng['ANGER']= data_eng['ANGER'].astype(\"int\")\n",
        "data_eng['GENDER']= data_eng['GENDER'].astype(\"int\")\n",
        "data_eng['AGE']= data_eng['AGE'].astype(\"int\")\n",
        "data_eng['EDUC_LVL']= data_eng['EDUC_LVL'].astype(\"int\")\n",
        "data_eng['AREA']= data_eng['AREA'].astype(\"int\")\n",
        "data_eng['MRITAL_STATUS']= data_eng['MRITAL_STATUS'].astype(\"int\")\n",
        "data_eng['ECON_CHAR']= data_eng['ECON_CHAR'].astype(\"int\")\n",
        "data_eng['MONTH_INCOME']= data_eng['MONTH_INCOME'].astype(\"int\")"
      ],
      "execution_count": null,
      "outputs": []
    },
    {
      "cell_type": "code",
      "metadata": {
        "colab": {
          "base_uri": "https://localhost:8080/"
        },
        "id": "2yawuRVyokUv",
        "outputId": "ff5dca1c-6d26-4341-e941-6e1db406bcf9"
      },
      "source": [
        "data_eng.LIGHTING_T.median()"
      ],
      "execution_count": null,
      "outputs": [
        {
          "output_type": "execute_result",
          "data": {
            "text/plain": [
              "6.0"
            ]
          },
          "metadata": {
            "tags": []
          },
          "execution_count": 20
        }
      ]
    },
    {
      "cell_type": "code",
      "metadata": {
        "colab": {
          "base_uri": "https://localhost:8080/",
          "height": 297
        },
        "id": "vGr9_pj6aOjz",
        "outputId": "35a5a2ec-02e2-49e9-87bd-7ae0b22bcec3"
      },
      "source": [
        "pd.crosstab(data_eng['SCENT_T'], data_eng['GENDER'], normalize=\"all\")"
      ],
      "execution_count": null,
      "outputs": [
        {
          "output_type": "execute_result",
          "data": {
            "text/html": [
              "<div>\n",
              "<style scoped>\n",
              "    .dataframe tbody tr th:only-of-type {\n",
              "        vertical-align: middle;\n",
              "    }\n",
              "\n",
              "    .dataframe tbody tr th {\n",
              "        vertical-align: top;\n",
              "    }\n",
              "\n",
              "    .dataframe thead th {\n",
              "        text-align: right;\n",
              "    }\n",
              "</style>\n",
              "<table border=\"1\" class=\"dataframe\">\n",
              "  <thead>\n",
              "    <tr style=\"text-align: right;\">\n",
              "      <th>GENDER</th>\n",
              "      <th>1</th>\n",
              "      <th>2</th>\n",
              "    </tr>\n",
              "    <tr>\n",
              "      <th>SCENT_T</th>\n",
              "      <th></th>\n",
              "      <th></th>\n",
              "    </tr>\n",
              "  </thead>\n",
              "  <tbody>\n",
              "    <tr>\n",
              "      <th>1</th>\n",
              "      <td>0.007194</td>\n",
              "      <td>0.014388</td>\n",
              "    </tr>\n",
              "    <tr>\n",
              "      <th>2</th>\n",
              "      <td>0.007194</td>\n",
              "      <td>0.021583</td>\n",
              "    </tr>\n",
              "    <tr>\n",
              "      <th>3</th>\n",
              "      <td>0.014388</td>\n",
              "      <td>0.028777</td>\n",
              "    </tr>\n",
              "    <tr>\n",
              "      <th>4</th>\n",
              "      <td>0.115108</td>\n",
              "      <td>0.107914</td>\n",
              "    </tr>\n",
              "    <tr>\n",
              "      <th>5</th>\n",
              "      <td>0.100719</td>\n",
              "      <td>0.093525</td>\n",
              "    </tr>\n",
              "    <tr>\n",
              "      <th>6</th>\n",
              "      <td>0.187050</td>\n",
              "      <td>0.129496</td>\n",
              "    </tr>\n",
              "    <tr>\n",
              "      <th>7</th>\n",
              "      <td>0.122302</td>\n",
              "      <td>0.050360</td>\n",
              "    </tr>\n",
              "  </tbody>\n",
              "</table>\n",
              "</div>"
            ],
            "text/plain": [
              "GENDER          1         2\n",
              "SCENT_T                    \n",
              "1        0.007194  0.014388\n",
              "2        0.007194  0.021583\n",
              "3        0.014388  0.028777\n",
              "4        0.115108  0.107914\n",
              "5        0.100719  0.093525\n",
              "6        0.187050  0.129496\n",
              "7        0.122302  0.050360"
            ]
          },
          "metadata": {
            "tags": []
          },
          "execution_count": 26
        }
      ]
    },
    {
      "cell_type": "code",
      "metadata": {
        "colab": {
          "base_uri": "https://localhost:8080/",
          "height": 317
        },
        "id": "_TDB8DltOzRF",
        "outputId": "9cd18303-5071-44e6-9566-a27d93d9037d"
      },
      "source": [
        "data_eng.describe(). Լայն"
      ],
      "execution_count": null,
      "outputs": [
        {
          "output_type": "execute_result",
          "data": {
            "text/html": [
              "<div>\n",
              "<style scoped>\n",
              "    .dataframe tbody tr th:only-of-type {\n",
              "        vertical-align: middle;\n",
              "    }\n",
              "\n",
              "    .dataframe tbody tr th {\n",
              "        vertical-align: top;\n",
              "    }\n",
              "\n",
              "    .dataframe thead th {\n",
              "        text-align: right;\n",
              "    }\n",
              "</style>\n",
              "<table border=\"1\" class=\"dataframe\">\n",
              "  <thead>\n",
              "    <tr style=\"text-align: right;\">\n",
              "      <th></th>\n",
              "      <th>SUPERMARKET_ATT</th>\n",
              "      <th>SCENT_T</th>\n",
              "      <th>TEMPERATURE_T</th>\n",
              "      <th>MUSIC_T</th>\n",
              "      <th>LIGHTING_T</th>\n",
              "      <th>FLOORING_T</th>\n",
              "      <th>CLEANLINESS_T</th>\n",
              "      <th>PERSONNEL_T</th>\n",
              "      <th>THEME_T</th>\n",
              "      <th>SCENT_CH</th>\n",
              "      <th>TEMPERATURE_CH</th>\n",
              "      <th>MUSIC_CH</th>\n",
              "      <th>LIGHTING_CH</th>\n",
              "      <th>FLOORING_CH</th>\n",
              "      <th>CLEANLINESS_CH</th>\n",
              "      <th>PERSONNEL_CH</th>\n",
              "      <th>THEME_CH</th>\n",
              "      <th>TIME_SPENT</th>\n",
              "      <th>BROAD_AISLES_MO</th>\n",
              "      <th>COLOR_CODED_PROD_MO</th>\n",
              "      <th>MERCHANDISE_GROUP_MO</th>\n",
              "      <th>PRICE_TAGS_MO</th>\n",
              "      <th>CASH_DESKS_MO</th>\n",
              "      <th>FRONT_DISPLAY_MO</th>\n",
              "      <th>FLOOR_SPACE_MO</th>\n",
              "      <th>BROAD_AISLES_CH</th>\n",
              "      <th>COLOR_CODED_PROD_CH</th>\n",
              "      <th>MERCHANDISE_GROUP_CH</th>\n",
              "      <th>PRICE_TAGS_CH</th>\n",
              "      <th>CASH_DESKS_CH</th>\n",
              "      <th>FRONT_DISPLAY_CH</th>\n",
              "      <th>FLOOR_SPACE_CH</th>\n",
              "      <th>EXCITEMENT</th>\n",
              "      <th>CONFIDENCE</th>\n",
              "      <th>SATISFACTION</th>\n",
              "      <th>HARMONY</th>\n",
              "      <th>HUNGER</th>\n",
              "      <th>SADNESS</th>\n",
              "      <th>TIREDNESS</th>\n",
              "      <th>ANGER</th>\n",
              "      <th>GENDER</th>\n",
              "      <th>AGE</th>\n",
              "      <th>EDUC_LVL</th>\n",
              "      <th>AREA</th>\n",
              "      <th>MRITAL_STATUS</th>\n",
              "      <th>ECON_CHAR</th>\n",
              "      <th>MONTH_INCOME</th>\n",
              "    </tr>\n",
              "  </thead>\n",
              "  <tbody>\n",
              "    <tr>\n",
              "      <th>count</th>\n",
              "      <td>139.0</td>\n",
              "      <td>139.000000</td>\n",
              "      <td>139.000000</td>\n",
              "      <td>139.000000</td>\n",
              "      <td>139.000000</td>\n",
              "      <td>139.000000</td>\n",
              "      <td>139.000000</td>\n",
              "      <td>139.000000</td>\n",
              "      <td>139.000000</td>\n",
              "      <td>139.000000</td>\n",
              "      <td>139.000000</td>\n",
              "      <td>139.000000</td>\n",
              "      <td>139.000000</td>\n",
              "      <td>139.000000</td>\n",
              "      <td>139.000000</td>\n",
              "      <td>139.000000</td>\n",
              "      <td>139.000000</td>\n",
              "      <td>139.000000</td>\n",
              "      <td>139.000000</td>\n",
              "      <td>139.000000</td>\n",
              "      <td>139.000000</td>\n",
              "      <td>139.000000</td>\n",
              "      <td>139.000000</td>\n",
              "      <td>139.000000</td>\n",
              "      <td>139.000000</td>\n",
              "      <td>139.000000</td>\n",
              "      <td>139.000000</td>\n",
              "      <td>139.000000</td>\n",
              "      <td>139.000000</td>\n",
              "      <td>139.000000</td>\n",
              "      <td>139.000000</td>\n",
              "      <td>139.000000</td>\n",
              "      <td>139.000000</td>\n",
              "      <td>139.000000</td>\n",
              "      <td>139.000000</td>\n",
              "      <td>139.000000</td>\n",
              "      <td>139.000000</td>\n",
              "      <td>139.000000</td>\n",
              "      <td>139.000000</td>\n",
              "      <td>139.000000</td>\n",
              "      <td>139.000000</td>\n",
              "      <td>139.000000</td>\n",
              "      <td>139.000000</td>\n",
              "      <td>139.000000</td>\n",
              "      <td>139.00000</td>\n",
              "      <td>139.000000</td>\n",
              "      <td>139.000000</td>\n",
              "    </tr>\n",
              "    <tr>\n",
              "      <th>mean</th>\n",
              "      <td>1.0</td>\n",
              "      <td>5.179856</td>\n",
              "      <td>5.618705</td>\n",
              "      <td>4.913669</td>\n",
              "      <td>5.553957</td>\n",
              "      <td>4.956835</td>\n",
              "      <td>6.151079</td>\n",
              "      <td>6.100719</td>\n",
              "      <td>5.453237</td>\n",
              "      <td>5.064748</td>\n",
              "      <td>5.165468</td>\n",
              "      <td>4.625899</td>\n",
              "      <td>5.359712</td>\n",
              "      <td>4.841727</td>\n",
              "      <td>6.237410</td>\n",
              "      <td>6.179856</td>\n",
              "      <td>5.323741</td>\n",
              "      <td>1.697842</td>\n",
              "      <td>5.424460</td>\n",
              "      <td>4.633094</td>\n",
              "      <td>5.640288</td>\n",
              "      <td>5.136691</td>\n",
              "      <td>5.000000</td>\n",
              "      <td>5.302158</td>\n",
              "      <td>5.496403</td>\n",
              "      <td>5.352518</td>\n",
              "      <td>4.582734</td>\n",
              "      <td>5.496403</td>\n",
              "      <td>5.100719</td>\n",
              "      <td>4.964029</td>\n",
              "      <td>5.172662</td>\n",
              "      <td>5.496403</td>\n",
              "      <td>0.330935</td>\n",
              "      <td>0.258993</td>\n",
              "      <td>0.640288</td>\n",
              "      <td>0.223022</td>\n",
              "      <td>0.395683</td>\n",
              "      <td>0.071942</td>\n",
              "      <td>0.273381</td>\n",
              "      <td>0.079137</td>\n",
              "      <td>1.446043</td>\n",
              "      <td>1.633094</td>\n",
              "      <td>4.741007</td>\n",
              "      <td>1.100719</td>\n",
              "      <td>1.42446</td>\n",
              "      <td>2.446043</td>\n",
              "      <td>4.561151</td>\n",
              "    </tr>\n",
              "    <tr>\n",
              "      <th>std</th>\n",
              "      <td>0.0</td>\n",
              "      <td>1.410375</td>\n",
              "      <td>1.017212</td>\n",
              "      <td>1.326879</td>\n",
              "      <td>1.162036</td>\n",
              "      <td>1.307007</td>\n",
              "      <td>1.062631</td>\n",
              "      <td>1.137598</td>\n",
              "      <td>1.149814</td>\n",
              "      <td>1.415282</td>\n",
              "      <td>1.370481</td>\n",
              "      <td>1.435943</td>\n",
              "      <td>1.356718</td>\n",
              "      <td>1.384484</td>\n",
              "      <td>1.080678</td>\n",
              "      <td>1.124508</td>\n",
              "      <td>1.205157</td>\n",
              "      <td>0.738729</td>\n",
              "      <td>1.109762</td>\n",
              "      <td>1.484919</td>\n",
              "      <td>1.096815</td>\n",
              "      <td>1.485200</td>\n",
              "      <td>1.469497</td>\n",
              "      <td>1.189658</td>\n",
              "      <td>1.058945</td>\n",
              "      <td>1.318010</td>\n",
              "      <td>1.483725</td>\n",
              "      <td>1.253251</td>\n",
              "      <td>1.514639</td>\n",
              "      <td>1.515189</td>\n",
              "      <td>1.323851</td>\n",
              "      <td>1.276170</td>\n",
              "      <td>0.472252</td>\n",
              "      <td>0.439666</td>\n",
              "      <td>0.481652</td>\n",
              "      <td>0.417778</td>\n",
              "      <td>0.490766</td>\n",
              "      <td>0.259327</td>\n",
              "      <td>0.447307</td>\n",
              "      <td>0.270928</td>\n",
              "      <td>0.498878</td>\n",
              "      <td>1.008255</td>\n",
              "      <td>1.199868</td>\n",
              "      <td>0.386267</td>\n",
              "      <td>0.83387</td>\n",
              "      <td>1.057565</td>\n",
              "      <td>2.213644</td>\n",
              "    </tr>\n",
              "    <tr>\n",
              "      <th>min</th>\n",
              "      <td>1.0</td>\n",
              "      <td>1.000000</td>\n",
              "      <td>3.000000</td>\n",
              "      <td>1.000000</td>\n",
              "      <td>1.000000</td>\n",
              "      <td>1.000000</td>\n",
              "      <td>2.000000</td>\n",
              "      <td>2.000000</td>\n",
              "      <td>2.000000</td>\n",
              "      <td>1.000000</td>\n",
              "      <td>1.000000</td>\n",
              "      <td>1.000000</td>\n",
              "      <td>1.000000</td>\n",
              "      <td>1.000000</td>\n",
              "      <td>1.000000</td>\n",
              "      <td>1.000000</td>\n",
              "      <td>1.000000</td>\n",
              "      <td>1.000000</td>\n",
              "      <td>2.000000</td>\n",
              "      <td>1.000000</td>\n",
              "      <td>1.000000</td>\n",
              "      <td>1.000000</td>\n",
              "      <td>1.000000</td>\n",
              "      <td>2.000000</td>\n",
              "      <td>2.000000</td>\n",
              "      <td>2.000000</td>\n",
              "      <td>1.000000</td>\n",
              "      <td>1.000000</td>\n",
              "      <td>1.000000</td>\n",
              "      <td>1.000000</td>\n",
              "      <td>1.000000</td>\n",
              "      <td>2.000000</td>\n",
              "      <td>0.000000</td>\n",
              "      <td>0.000000</td>\n",
              "      <td>0.000000</td>\n",
              "      <td>0.000000</td>\n",
              "      <td>0.000000</td>\n",
              "      <td>0.000000</td>\n",
              "      <td>0.000000</td>\n",
              "      <td>0.000000</td>\n",
              "      <td>1.000000</td>\n",
              "      <td>1.000000</td>\n",
              "      <td>1.000000</td>\n",
              "      <td>1.000000</td>\n",
              "      <td>1.00000</td>\n",
              "      <td>1.000000</td>\n",
              "      <td>1.000000</td>\n",
              "    </tr>\n",
              "    <tr>\n",
              "      <th>25%</th>\n",
              "      <td>1.0</td>\n",
              "      <td>4.000000</td>\n",
              "      <td>5.000000</td>\n",
              "      <td>4.000000</td>\n",
              "      <td>5.000000</td>\n",
              "      <td>4.000000</td>\n",
              "      <td>6.000000</td>\n",
              "      <td>6.000000</td>\n",
              "      <td>5.000000</td>\n",
              "      <td>4.000000</td>\n",
              "      <td>4.000000</td>\n",
              "      <td>4.000000</td>\n",
              "      <td>4.500000</td>\n",
              "      <td>4.000000</td>\n",
              "      <td>6.000000</td>\n",
              "      <td>6.000000</td>\n",
              "      <td>4.000000</td>\n",
              "      <td>1.000000</td>\n",
              "      <td>5.000000</td>\n",
              "      <td>4.000000</td>\n",
              "      <td>5.000000</td>\n",
              "      <td>4.000000</td>\n",
              "      <td>4.000000</td>\n",
              "      <td>4.000000</td>\n",
              "      <td>5.000000</td>\n",
              "      <td>4.000000</td>\n",
              "      <td>4.000000</td>\n",
              "      <td>5.000000</td>\n",
              "      <td>4.000000</td>\n",
              "      <td>4.000000</td>\n",
              "      <td>4.000000</td>\n",
              "      <td>5.000000</td>\n",
              "      <td>0.000000</td>\n",
              "      <td>0.000000</td>\n",
              "      <td>0.000000</td>\n",
              "      <td>0.000000</td>\n",
              "      <td>0.000000</td>\n",
              "      <td>0.000000</td>\n",
              "      <td>0.000000</td>\n",
              "      <td>0.000000</td>\n",
              "      <td>1.000000</td>\n",
              "      <td>1.000000</td>\n",
              "      <td>4.000000</td>\n",
              "      <td>1.000000</td>\n",
              "      <td>1.00000</td>\n",
              "      <td>2.000000</td>\n",
              "      <td>3.000000</td>\n",
              "    </tr>\n",
              "    <tr>\n",
              "      <th>50%</th>\n",
              "      <td>1.0</td>\n",
              "      <td>5.000000</td>\n",
              "      <td>6.000000</td>\n",
              "      <td>5.000000</td>\n",
              "      <td>6.000000</td>\n",
              "      <td>5.000000</td>\n",
              "      <td>6.000000</td>\n",
              "      <td>6.000000</td>\n",
              "      <td>5.000000</td>\n",
              "      <td>5.000000</td>\n",
              "      <td>5.000000</td>\n",
              "      <td>4.000000</td>\n",
              "      <td>6.000000</td>\n",
              "      <td>5.000000</td>\n",
              "      <td>7.000000</td>\n",
              "      <td>7.000000</td>\n",
              "      <td>5.000000</td>\n",
              "      <td>2.000000</td>\n",
              "      <td>5.000000</td>\n",
              "      <td>5.000000</td>\n",
              "      <td>6.000000</td>\n",
              "      <td>6.000000</td>\n",
              "      <td>5.000000</td>\n",
              "      <td>5.000000</td>\n",
              "      <td>6.000000</td>\n",
              "      <td>6.000000</td>\n",
              "      <td>5.000000</td>\n",
              "      <td>6.000000</td>\n",
              "      <td>5.000000</td>\n",
              "      <td>5.000000</td>\n",
              "      <td>5.000000</td>\n",
              "      <td>6.000000</td>\n",
              "      <td>0.000000</td>\n",
              "      <td>0.000000</td>\n",
              "      <td>1.000000</td>\n",
              "      <td>0.000000</td>\n",
              "      <td>0.000000</td>\n",
              "      <td>0.000000</td>\n",
              "      <td>0.000000</td>\n",
              "      <td>0.000000</td>\n",
              "      <td>1.000000</td>\n",
              "      <td>1.000000</td>\n",
              "      <td>5.000000</td>\n",
              "      <td>1.000000</td>\n",
              "      <td>1.00000</td>\n",
              "      <td>2.000000</td>\n",
              "      <td>5.000000</td>\n",
              "    </tr>\n",
              "    <tr>\n",
              "      <th>75%</th>\n",
              "      <td>1.0</td>\n",
              "      <td>6.000000</td>\n",
              "      <td>6.000000</td>\n",
              "      <td>6.000000</td>\n",
              "      <td>6.000000</td>\n",
              "      <td>6.000000</td>\n",
              "      <td>7.000000</td>\n",
              "      <td>7.000000</td>\n",
              "      <td>6.000000</td>\n",
              "      <td>6.000000</td>\n",
              "      <td>6.000000</td>\n",
              "      <td>6.000000</td>\n",
              "      <td>6.000000</td>\n",
              "      <td>6.000000</td>\n",
              "      <td>7.000000</td>\n",
              "      <td>7.000000</td>\n",
              "      <td>6.000000</td>\n",
              "      <td>2.000000</td>\n",
              "      <td>6.000000</td>\n",
              "      <td>6.000000</td>\n",
              "      <td>6.000000</td>\n",
              "      <td>6.000000</td>\n",
              "      <td>6.000000</td>\n",
              "      <td>6.000000</td>\n",
              "      <td>6.000000</td>\n",
              "      <td>6.000000</td>\n",
              "      <td>6.000000</td>\n",
              "      <td>6.000000</td>\n",
              "      <td>6.000000</td>\n",
              "      <td>6.000000</td>\n",
              "      <td>6.000000</td>\n",
              "      <td>6.500000</td>\n",
              "      <td>1.000000</td>\n",
              "      <td>1.000000</td>\n",
              "      <td>1.000000</td>\n",
              "      <td>0.000000</td>\n",
              "      <td>1.000000</td>\n",
              "      <td>0.000000</td>\n",
              "      <td>1.000000</td>\n",
              "      <td>0.000000</td>\n",
              "      <td>2.000000</td>\n",
              "      <td>2.000000</td>\n",
              "      <td>5.500000</td>\n",
              "      <td>1.000000</td>\n",
              "      <td>2.00000</td>\n",
              "      <td>3.000000</td>\n",
              "      <td>7.000000</td>\n",
              "    </tr>\n",
              "    <tr>\n",
              "      <th>max</th>\n",
              "      <td>1.0</td>\n",
              "      <td>7.000000</td>\n",
              "      <td>7.000000</td>\n",
              "      <td>7.000000</td>\n",
              "      <td>7.000000</td>\n",
              "      <td>7.000000</td>\n",
              "      <td>7.000000</td>\n",
              "      <td>7.000000</td>\n",
              "      <td>7.000000</td>\n",
              "      <td>7.000000</td>\n",
              "      <td>7.000000</td>\n",
              "      <td>7.000000</td>\n",
              "      <td>7.000000</td>\n",
              "      <td>7.000000</td>\n",
              "      <td>7.000000</td>\n",
              "      <td>7.000000</td>\n",
              "      <td>7.000000</td>\n",
              "      <td>4.000000</td>\n",
              "      <td>7.000000</td>\n",
              "      <td>7.000000</td>\n",
              "      <td>7.000000</td>\n",
              "      <td>7.000000</td>\n",
              "      <td>7.000000</td>\n",
              "      <td>7.000000</td>\n",
              "      <td>7.000000</td>\n",
              "      <td>7.000000</td>\n",
              "      <td>7.000000</td>\n",
              "      <td>7.000000</td>\n",
              "      <td>7.000000</td>\n",
              "      <td>7.000000</td>\n",
              "      <td>7.000000</td>\n",
              "      <td>7.000000</td>\n",
              "      <td>1.000000</td>\n",
              "      <td>1.000000</td>\n",
              "      <td>1.000000</td>\n",
              "      <td>1.000000</td>\n",
              "      <td>1.000000</td>\n",
              "      <td>1.000000</td>\n",
              "      <td>1.000000</td>\n",
              "      <td>1.000000</td>\n",
              "      <td>2.000000</td>\n",
              "      <td>5.000000</td>\n",
              "      <td>7.000000</td>\n",
              "      <td>3.000000</td>\n",
              "      <td>5.00000</td>\n",
              "      <td>5.000000</td>\n",
              "      <td>7.000000</td>\n",
              "    </tr>\n",
              "  </tbody>\n",
              "</table>\n",
              "</div>"
            ],
            "text/plain": [
              "       SUPERMARKET_ATT     SCENT_T  ...   ECON_CHAR  MONTH_INCOME\n",
              "count            139.0  139.000000  ...  139.000000    139.000000\n",
              "mean               1.0    5.179856  ...    2.446043      4.561151\n",
              "std                0.0    1.410375  ...    1.057565      2.213644\n",
              "min                1.0    1.000000  ...    1.000000      1.000000\n",
              "25%                1.0    4.000000  ...    2.000000      3.000000\n",
              "50%                1.0    5.000000  ...    2.000000      5.000000\n",
              "75%                1.0    6.000000  ...    3.000000      7.000000\n",
              "max                1.0    7.000000  ...    5.000000      7.000000\n",
              "\n",
              "[8 rows x 47 columns]"
            ]
          },
          "metadata": {
            "tags": []
          },
          "execution_count": 45
        }
      ]
    },
    {
      "cell_type": "code",
      "metadata": {
        "id": "n4g0JfnqnCgY"
      },
      "source": [
        "data_eng.to_excel(\"thesis_data_eng_final.xlsx\")"
      ],
      "execution_count": null,
      "outputs": []
    },
    {
      "cell_type": "code",
      "metadata": {
        "colab": {
          "base_uri": "https://localhost:8080/"
        },
        "id": "vM8UZhB6krRz",
        "outputId": "8abfade6-9546-48fd-e5e5-252eaeecd5d7"
      },
      "source": [
        "pip install retriever"
      ],
      "execution_count": null,
      "outputs": [
        {
          "output_type": "stream",
          "text": [
            "Collecting retriever\n",
            "\u001b[?25l  Downloading https://files.pythonhosted.org/packages/99/cc/ef1c3f969a591194dc6705c8ebed010d998c9b5c34e5178d0511dfc72de2/retriever-3.0.0-py2.py3-none-any.whl (73kB)\n",
            "\r\u001b[K     |████▌                           | 10kB 15.0MB/s eta 0:00:01\r\u001b[K     |█████████                       | 20kB 17.0MB/s eta 0:00:01\r\u001b[K     |█████████████▍                  | 30kB 10.9MB/s eta 0:00:01\r\u001b[K     |█████████████████▉              | 40kB 9.4MB/s eta 0:00:01\r\u001b[K     |██████████████████████▎         | 51kB 5.3MB/s eta 0:00:01\r\u001b[K     |██████████████████████████▊     | 61kB 5.9MB/s eta 0:00:01\r\u001b[K     |███████████████████████████████▏| 71kB 6.1MB/s eta 0:00:01\r\u001b[K     |████████████████████████████████| 81kB 4.0MB/s \n",
            "\u001b[?25hCollecting argcomplete\n",
            "  Downloading https://files.pythonhosted.org/packages/b7/9e/9dc74d330c07866d72f62d553fe8bdbe32786ff247a14e68b5659963e6bd/argcomplete-1.12.3-py2.py3-none-any.whl\n",
            "Requirement already satisfied: tqdm in /usr/local/lib/python3.7/dist-packages (from retriever) (4.41.1)\n",
            "Requirement already satisfied: future in /usr/local/lib/python3.7/dist-packages (from retriever) (0.16.0)\n",
            "Requirement already satisfied: xlrd in /usr/local/lib/python3.7/dist-packages (from retriever) (1.1.0)\n",
            "Requirement already satisfied: pandas in /usr/local/lib/python3.7/dist-packages (from retriever) (1.1.5)\n",
            "Requirement already satisfied: requests in /usr/local/lib/python3.7/dist-packages (from retriever) (2.23.0)\n",
            "Requirement already satisfied: importlib-metadata<5,>=0.23; python_version == \"3.7\" in /usr/local/lib/python3.7/dist-packages (from argcomplete->retriever) (4.0.1)\n",
            "Requirement already satisfied: pytz>=2017.2 in /usr/local/lib/python3.7/dist-packages (from pandas->retriever) (2018.9)\n",
            "Requirement already satisfied: python-dateutil>=2.7.3 in /usr/local/lib/python3.7/dist-packages (from pandas->retriever) (2.8.1)\n",
            "Requirement already satisfied: numpy>=1.15.4 in /usr/local/lib/python3.7/dist-packages (from pandas->retriever) (1.19.5)\n",
            "Requirement already satisfied: chardet<4,>=3.0.2 in /usr/local/lib/python3.7/dist-packages (from requests->retriever) (3.0.4)\n",
            "Requirement already satisfied: idna<3,>=2.5 in /usr/local/lib/python3.7/dist-packages (from requests->retriever) (2.10)\n",
            "Requirement already satisfied: urllib3!=1.25.0,!=1.25.1,<1.26,>=1.21.1 in /usr/local/lib/python3.7/dist-packages (from requests->retriever) (1.24.3)\n",
            "Requirement already satisfied: certifi>=2017.4.17 in /usr/local/lib/python3.7/dist-packages (from requests->retriever) (2020.12.5)\n",
            "Requirement already satisfied: zipp>=0.5 in /usr/local/lib/python3.7/dist-packages (from importlib-metadata<5,>=0.23; python_version == \"3.7\"->argcomplete->retriever) (3.4.1)\n",
            "Requirement already satisfied: typing-extensions>=3.6.4; python_version < \"3.8\" in /usr/local/lib/python3.7/dist-packages (from importlib-metadata<5,>=0.23; python_version == \"3.7\"->argcomplete->retriever) (3.7.4.3)\n",
            "Requirement already satisfied: six>=1.5 in /usr/local/lib/python3.7/dist-packages (from python-dateutil>=2.7.3->pandas->retriever) (1.15.0)\n",
            "Installing collected packages: argcomplete, retriever\n",
            "Successfully installed argcomplete-1.12.3 retriever-3.0.0\n"
          ],
          "name": "stdout"
        }
      ]
    },
    {
      "cell_type": "code",
      "metadata": {
        "id": "qjnSpbfhkVyk"
      },
      "source": [
        "import retriever\n",
        "import retriever as rt"
      ],
      "execution_count": null,
      "outputs": []
    },
    {
      "cell_type": "code",
      "metadata": {
        "colab": {
          "base_uri": "https://localhost:8080/",
          "height": 333
        },
        "id": "k2dX5oPykCCW",
        "outputId": "bd765085-202d-43b2-d4a8-ce9f2d7ad126"
      },
      "source": [
        " rt.download(\"data_eng\")"
      ],
      "execution_count": null,
      "outputs": [
        {
          "output_type": "stream",
          "text": [
            "Downloading upstream scripts: 100%|██████████| 280/280 [00:53<00:00,  5.26files/s]\n",
            "Downloading default scripts: 100%|██████████| 105/105 [00:01<00:00, 100.43files/s]\n"
          ],
          "name": "stderr"
        },
        {
          "output_type": "stream",
          "text": [
            "\n",
            "The dataset \"data_eng\" isn't currently available in the Retriever.\n"
          ],
          "name": "stdout"
        },
        {
          "output_type": "error",
          "ename": "ValueError",
          "evalue": "ignored",
          "traceback": [
            "\u001b[0;31m---------------------------------------------------------------------------\u001b[0m",
            "\u001b[0;31mValueError\u001b[0m                                Traceback (most recent call last)",
            "\u001b[0;32m<ipython-input-53-82ca4d188392>\u001b[0m in \u001b[0;36m<module>\u001b[0;34m()\u001b[0m\n\u001b[0;32m----> 1\u001b[0;31m \u001b[0mrt\u001b[0m\u001b[0;34m.\u001b[0m\u001b[0mdownload\u001b[0m\u001b[0;34m(\u001b[0m\u001b[0;34m\"data_eng\"\u001b[0m\u001b[0;34m)\u001b[0m\u001b[0;34m\u001b[0m\u001b[0;34m\u001b[0m\u001b[0m\n\u001b[0m",
            "\u001b[0;32m/usr/local/lib/python3.7/dist-packages/retriever/lib/download.py\u001b[0m in \u001b[0;36mdownload\u001b[0;34m(dataset, path, quiet, sub_dir, debug, use_cache)\u001b[0m\n\u001b[1;32m     37\u001b[0m         \u001b[0mmessage\u001b[0m \u001b[0;34m=\u001b[0m \u001b[0;34m\"Run retriever.datasets() to see the list of currently \"\u001b[0m\u001b[0;31m \u001b[0m\u001b[0;31m\\\u001b[0m\u001b[0;34m\u001b[0m\u001b[0;34m\u001b[0m\u001b[0m\n\u001b[1;32m     38\u001b[0m                   \u001b[0;34m\"available datasets.\"\u001b[0m\u001b[0;34m\u001b[0m\u001b[0;34m\u001b[0m\u001b[0m\n\u001b[0;32m---> 39\u001b[0;31m         \u001b[0;32mraise\u001b[0m \u001b[0mValueError\u001b[0m\u001b[0;34m(\u001b[0m\u001b[0mmessage\u001b[0m\u001b[0;34m)\u001b[0m\u001b[0;34m\u001b[0m\u001b[0;34m\u001b[0m\u001b[0m\n\u001b[0m\u001b[1;32m     40\u001b[0m     \u001b[0;32mreturn\u001b[0m \u001b[0mengine\u001b[0m\u001b[0;34m\u001b[0m\u001b[0;34m\u001b[0m\u001b[0m\n",
            "\u001b[0;31mValueError\u001b[0m: Run retriever.datasets() to see the list of currently available datasets."
          ]
        }
      ]
    },
    {
      "cell_type": "code",
      "metadata": {
        "id": "vsPQnTkflWoW"
      },
      "source": [
        "retriever.datasets()"
      ],
      "execution_count": null,
      "outputs": []
    },
    {
      "cell_type": "code",
      "metadata": {
        "id": "_9Bh1BbkQrYx"
      },
      "source": [
        "Y = data_eng.TIME_SPENT\n",
        "X = data_model.drop('Price_USD', axis = 1)\n",
        "X = sm.add_constant(X)"
      ],
      "execution_count": null,
      "outputs": []
    },
    {
      "cell_type": "code",
      "metadata": {
        "id": "KeqaS4w5TboW"
      },
      "source": [],
      "execution_count": null,
      "outputs": []
    },
    {
      "cell_type": "code",
      "metadata": {
        "id": "Mhdh5nWrSRFy"
      },
      "source": [
        "# Defining dependent and independent variables.\n",
        "Y=data_eng[\"TIME_SPENT\"]\n",
        "X=data_eng[[\"SCENT_T\", \"TEMPERATURE_T\",\t\"MUSIC_T\",\t\"LIGHTING_T\",\t\"FLOORING_T\",\t\"CLEANLINESS_T\",\t\"PERSONNEL_T\",\t\"THEME_T\"]]"
      ],
      "execution_count": null,
      "outputs": []
    },
    {
      "cell_type": "code",
      "metadata": {
        "colab": {
          "base_uri": "https://localhost:8080/"
        },
        "id": "s9QrqVHTSqKr",
        "outputId": "a83ece20-6686-4659-950e-d6a8430502cd"
      },
      "source": [
        "X.shape"
      ],
      "execution_count": null,
      "outputs": [
        {
          "output_type": "execute_result",
          "data": {
            "text/plain": [
              "(139, 8)"
            ]
          },
          "metadata": {
            "tags": []
          },
          "execution_count": 162
        }
      ]
    },
    {
      "cell_type": "code",
      "metadata": {
        "id": "uBZIcnO8Svpq"
      },
      "source": [
        "X0, X1, Y0, Y1 = train_test_split(X, Y, test_size=0.25, random_state=42)"
      ],
      "execution_count": null,
      "outputs": []
    },
    {
      "cell_type": "code",
      "metadata": {
        "id": "WReys8JOTfMF"
      },
      "source": [
        "X0 = sm.add_constant(X0)\n",
        "model_linear = sm.OLS(Y0,X0)\n",
        "results = model_linear.fit()"
      ],
      "execution_count": null,
      "outputs": []
    },
    {
      "cell_type": "code",
      "metadata": {
        "colab": {
          "base_uri": "https://localhost:8080/",
          "height": 591
        },
        "id": "obeAT0bgbGCg",
        "outputId": "247cc5bd-a5c1-42cd-be1e-2b00a89ba3b0"
      },
      "source": [
        "results.summary()"
      ],
      "execution_count": null,
      "outputs": [
        {
          "output_type": "execute_result",
          "data": {
            "text/html": [
              "<table class=\"simpletable\">\n",
              "<caption>OLS Regression Results</caption>\n",
              "<tr>\n",
              "  <th>Dep. Variable:</th>       <td>TIME_SPENT</td>    <th>  R-squared:         </th> <td>   0.128</td>\n",
              "</tr>\n",
              "<tr>\n",
              "  <th>Model:</th>                   <td>OLS</td>       <th>  Adj. R-squared:    </th> <td>   0.055</td>\n",
              "</tr>\n",
              "<tr>\n",
              "  <th>Method:</th>             <td>Least Squares</td>  <th>  F-statistic:       </th> <td>   1.748</td>\n",
              "</tr>\n",
              "<tr>\n",
              "  <th>Date:</th>             <td>Fri, 14 May 2021</td> <th>  Prob (F-statistic):</th>  <td>0.0974</td> \n",
              "</tr>\n",
              "<tr>\n",
              "  <th>Time:</th>                 <td>01:10:14</td>     <th>  Log-Likelihood:    </th> <td> -110.85</td>\n",
              "</tr>\n",
              "<tr>\n",
              "  <th>No. Observations:</th>      <td>   104</td>      <th>  AIC:               </th> <td>   239.7</td>\n",
              "</tr>\n",
              "<tr>\n",
              "  <th>Df Residuals:</th>          <td>    95</td>      <th>  BIC:               </th> <td>   263.5</td>\n",
              "</tr>\n",
              "<tr>\n",
              "  <th>Df Model:</th>              <td>     8</td>      <th>                     </th>     <td> </td>   \n",
              "</tr>\n",
              "<tr>\n",
              "  <th>Covariance Type:</th>      <td>nonrobust</td>    <th>                     </th>     <td> </td>   \n",
              "</tr>\n",
              "</table>\n",
              "<table class=\"simpletable\">\n",
              "<tr>\n",
              "        <td></td>           <th>coef</th>     <th>std err</th>      <th>t</th>      <th>P>|t|</th>  <th>[0.025</th>    <th>0.975]</th>  \n",
              "</tr>\n",
              "<tr>\n",
              "  <th>const</th>         <td>    0.9261</td> <td>    0.561</td> <td>    1.652</td> <td> 0.102</td> <td>   -0.187</td> <td>    2.039</td>\n",
              "</tr>\n",
              "<tr>\n",
              "  <th>SCENT_T</th>       <td>    0.0845</td> <td>    0.055</td> <td>    1.534</td> <td> 0.128</td> <td>   -0.025</td> <td>    0.194</td>\n",
              "</tr>\n",
              "<tr>\n",
              "  <th>TEMPERATURE_T</th> <td>    0.0681</td> <td>    0.088</td> <td>    0.774</td> <td> 0.441</td> <td>   -0.106</td> <td>    0.243</td>\n",
              "</tr>\n",
              "<tr>\n",
              "  <th>MUSIC_T</th>       <td>    0.1434</td> <td>    0.065</td> <td>    2.216</td> <td> 0.029</td> <td>    0.015</td> <td>    0.272</td>\n",
              "</tr>\n",
              "<tr>\n",
              "  <th>LIGHTING_T</th>    <td>   -0.0096</td> <td>    0.083</td> <td>   -0.116</td> <td> 0.908</td> <td>   -0.174</td> <td>    0.155</td>\n",
              "</tr>\n",
              "<tr>\n",
              "  <th>FLOORING_T</th>    <td>    0.0035</td> <td>    0.070</td> <td>    0.050</td> <td> 0.960</td> <td>   -0.136</td> <td>    0.143</td>\n",
              "</tr>\n",
              "<tr>\n",
              "  <th>CLEANLINESS_T</th> <td>    0.0116</td> <td>    0.100</td> <td>    0.116</td> <td> 0.908</td> <td>   -0.187</td> <td>    0.210</td>\n",
              "</tr>\n",
              "<tr>\n",
              "  <th>PERSONNEL_T</th>   <td>   -0.0599</td> <td>    0.090</td> <td>   -0.666</td> <td> 0.507</td> <td>   -0.239</td> <td>    0.119</td>\n",
              "</tr>\n",
              "<tr>\n",
              "  <th>THEME_T</th>       <td>   -0.0802</td> <td>    0.082</td> <td>   -0.977</td> <td> 0.331</td> <td>   -0.243</td> <td>    0.083</td>\n",
              "</tr>\n",
              "</table>\n",
              "<table class=\"simpletable\">\n",
              "<tr>\n",
              "  <th>Omnibus:</th>       <td> 5.098</td> <th>  Durbin-Watson:     </th> <td>   2.332</td>\n",
              "</tr>\n",
              "<tr>\n",
              "  <th>Prob(Omnibus):</th> <td> 0.078</td> <th>  Jarque-Bera (JB):  </th> <td>   5.058</td>\n",
              "</tr>\n",
              "<tr>\n",
              "  <th>Skew:</th>          <td> 0.538</td> <th>  Prob(JB):          </th> <td>  0.0797</td>\n",
              "</tr>\n",
              "<tr>\n",
              "  <th>Kurtosis:</th>      <td> 2.899</td> <th>  Cond. No.          </th> <td>    122.</td>\n",
              "</tr>\n",
              "</table><br/><br/>Warnings:<br/>[1] Standard Errors assume that the covariance matrix of the errors is correctly specified."
            ],
            "text/plain": [
              "<class 'statsmodels.iolib.summary.Summary'>\n",
              "\"\"\"\n",
              "                            OLS Regression Results                            \n",
              "==============================================================================\n",
              "Dep. Variable:             TIME_SPENT   R-squared:                       0.128\n",
              "Model:                            OLS   Adj. R-squared:                  0.055\n",
              "Method:                 Least Squares   F-statistic:                     1.748\n",
              "Date:                Fri, 14 May 2021   Prob (F-statistic):             0.0974\n",
              "Time:                        01:10:14   Log-Likelihood:                -110.85\n",
              "No. Observations:                 104   AIC:                             239.7\n",
              "Df Residuals:                      95   BIC:                             263.5\n",
              "Df Model:                           8                                         \n",
              "Covariance Type:            nonrobust                                         \n",
              "=================================================================================\n",
              "                    coef    std err          t      P>|t|      [0.025      0.975]\n",
              "---------------------------------------------------------------------------------\n",
              "const             0.9261      0.561      1.652      0.102      -0.187       2.039\n",
              "SCENT_T           0.0845      0.055      1.534      0.128      -0.025       0.194\n",
              "TEMPERATURE_T     0.0681      0.088      0.774      0.441      -0.106       0.243\n",
              "MUSIC_T           0.1434      0.065      2.216      0.029       0.015       0.272\n",
              "LIGHTING_T       -0.0096      0.083     -0.116      0.908      -0.174       0.155\n",
              "FLOORING_T        0.0035      0.070      0.050      0.960      -0.136       0.143\n",
              "CLEANLINESS_T     0.0116      0.100      0.116      0.908      -0.187       0.210\n",
              "PERSONNEL_T      -0.0599      0.090     -0.666      0.507      -0.239       0.119\n",
              "THEME_T          -0.0802      0.082     -0.977      0.331      -0.243       0.083\n",
              "==============================================================================\n",
              "Omnibus:                        5.098   Durbin-Watson:                   2.332\n",
              "Prob(Omnibus):                  0.078   Jarque-Bera (JB):                5.058\n",
              "Skew:                           0.538   Prob(JB):                       0.0797\n",
              "Kurtosis:                       2.899   Cond. No.                         122.\n",
              "==============================================================================\n",
              "\n",
              "Warnings:\n",
              "[1] Standard Errors assume that the covariance matrix of the errors is correctly specified.\n",
              "\"\"\""
            ]
          },
          "metadata": {
            "tags": []
          },
          "execution_count": 165
        }
      ]
    },
    {
      "cell_type": "code",
      "metadata": {
        "id": "EW3YaQmBTRwG"
      },
      "source": [
        "from scipy.stats import wilcoxon"
      ],
      "execution_count": null,
      "outputs": []
    },
    {
      "cell_type": "code",
      "metadata": {
        "id": "eqTbSqSWe5UN"
      },
      "source": [
        "medHyp = 4"
      ],
      "execution_count": null,
      "outputs": []
    },
    {
      "cell_type": "code",
      "metadata": {
        "colab": {
          "base_uri": "https://localhost:8080/",
          "height": 324
        },
        "id": "euGPhl6KflkP",
        "outputId": "6040ebae-246e-46e2-c15a-85e1acfd49ac"
      },
      "source": [
        "data_eng.SCENT_T = {'Strongly disagree [-3]': 1, 'Disagree [-2]':2, 'Somewhat disagree [-1]': 3,\n",
        "                    'Neutral [0]': 4, 'Somewhat agree [1]': 5, 'Agree [2]': 6, 'Strongly agree [3]':7}"
      ],
      "execution_count": null,
      "outputs": [
        {
          "output_type": "error",
          "ename": "ValueError",
          "evalue": "ignored",
          "traceback": [
            "\u001b[0;31m---------------------------------------------------------------------------\u001b[0m",
            "\u001b[0;31mValueError\u001b[0m                                Traceback (most recent call last)",
            "\u001b[0;32m<ipython-input-168-668bfdcec456>\u001b[0m in \u001b[0;36m<module>\u001b[0;34m()\u001b[0m\n\u001b[1;32m      1\u001b[0m data_eng.SCENT_T = {'Strongly disagree [-3]': 1, 'Disagree [-2]':2, 'Somewhat disagree [-1]': 3,\n\u001b[0;32m----> 2\u001b[0;31m                     'Neutral [0]': 4, 'Somewhat agree [1]': 5, 'Agree [2]': 6, 'Strongly agree [3]':7}\n\u001b[0m",
            "\u001b[0;32m/usr/local/lib/python3.7/dist-packages/pandas/core/generic.py\u001b[0m in \u001b[0;36m__setattr__\u001b[0;34m(self, name, value)\u001b[0m\n\u001b[1;32m   5168\u001b[0m                     \u001b[0mobject\u001b[0m\u001b[0;34m.\u001b[0m\u001b[0m__setattr__\u001b[0m\u001b[0;34m(\u001b[0m\u001b[0mself\u001b[0m\u001b[0;34m,\u001b[0m \u001b[0mname\u001b[0m\u001b[0;34m,\u001b[0m \u001b[0mvalue\u001b[0m\u001b[0;34m)\u001b[0m\u001b[0;34m\u001b[0m\u001b[0;34m\u001b[0m\u001b[0m\n\u001b[1;32m   5169\u001b[0m                 \u001b[0;32melif\u001b[0m \u001b[0mname\u001b[0m \u001b[0;32min\u001b[0m \u001b[0mself\u001b[0m\u001b[0;34m.\u001b[0m\u001b[0m_info_axis\u001b[0m\u001b[0;34m:\u001b[0m\u001b[0;34m\u001b[0m\u001b[0;34m\u001b[0m\u001b[0m\n\u001b[0;32m-> 5170\u001b[0;31m                     \u001b[0mself\u001b[0m\u001b[0;34m[\u001b[0m\u001b[0mname\u001b[0m\u001b[0;34m]\u001b[0m \u001b[0;34m=\u001b[0m \u001b[0mvalue\u001b[0m\u001b[0;34m\u001b[0m\u001b[0;34m\u001b[0m\u001b[0m\n\u001b[0m\u001b[1;32m   5171\u001b[0m                 \u001b[0;32melse\u001b[0m\u001b[0;34m:\u001b[0m\u001b[0;34m\u001b[0m\u001b[0;34m\u001b[0m\u001b[0m\n\u001b[1;32m   5172\u001b[0m                     \u001b[0mobject\u001b[0m\u001b[0;34m.\u001b[0m\u001b[0m__setattr__\u001b[0m\u001b[0;34m(\u001b[0m\u001b[0mself\u001b[0m\u001b[0;34m,\u001b[0m \u001b[0mname\u001b[0m\u001b[0;34m,\u001b[0m \u001b[0mvalue\u001b[0m\u001b[0;34m)\u001b[0m\u001b[0;34m\u001b[0m\u001b[0;34m\u001b[0m\u001b[0m\n",
            "\u001b[0;32m/usr/local/lib/python3.7/dist-packages/pandas/core/frame.py\u001b[0m in \u001b[0;36m__setitem__\u001b[0;34m(self, key, value)\u001b[0m\n\u001b[1;32m   3042\u001b[0m         \u001b[0;32melse\u001b[0m\u001b[0;34m:\u001b[0m\u001b[0;34m\u001b[0m\u001b[0;34m\u001b[0m\u001b[0m\n\u001b[1;32m   3043\u001b[0m             \u001b[0;31m# set column\u001b[0m\u001b[0;34m\u001b[0m\u001b[0;34m\u001b[0m\u001b[0;34m\u001b[0m\u001b[0m\n\u001b[0;32m-> 3044\u001b[0;31m             \u001b[0mself\u001b[0m\u001b[0;34m.\u001b[0m\u001b[0m_set_item\u001b[0m\u001b[0;34m(\u001b[0m\u001b[0mkey\u001b[0m\u001b[0;34m,\u001b[0m \u001b[0mvalue\u001b[0m\u001b[0;34m)\u001b[0m\u001b[0;34m\u001b[0m\u001b[0;34m\u001b[0m\u001b[0m\n\u001b[0m\u001b[1;32m   3045\u001b[0m \u001b[0;34m\u001b[0m\u001b[0m\n\u001b[1;32m   3046\u001b[0m     \u001b[0;32mdef\u001b[0m \u001b[0m_setitem_slice\u001b[0m\u001b[0;34m(\u001b[0m\u001b[0mself\u001b[0m\u001b[0;34m,\u001b[0m \u001b[0mkey\u001b[0m\u001b[0;34m:\u001b[0m \u001b[0mslice\u001b[0m\u001b[0;34m,\u001b[0m \u001b[0mvalue\u001b[0m\u001b[0;34m)\u001b[0m\u001b[0;34m:\u001b[0m\u001b[0;34m\u001b[0m\u001b[0;34m\u001b[0m\u001b[0m\n",
            "\u001b[0;32m/usr/local/lib/python3.7/dist-packages/pandas/core/frame.py\u001b[0m in \u001b[0;36m_set_item\u001b[0;34m(self, key, value)\u001b[0m\n\u001b[1;32m   3118\u001b[0m         \"\"\"\n\u001b[1;32m   3119\u001b[0m         \u001b[0mself\u001b[0m\u001b[0;34m.\u001b[0m\u001b[0m_ensure_valid_index\u001b[0m\u001b[0;34m(\u001b[0m\u001b[0mvalue\u001b[0m\u001b[0;34m)\u001b[0m\u001b[0;34m\u001b[0m\u001b[0;34m\u001b[0m\u001b[0m\n\u001b[0;32m-> 3120\u001b[0;31m         \u001b[0mvalue\u001b[0m \u001b[0;34m=\u001b[0m \u001b[0mself\u001b[0m\u001b[0;34m.\u001b[0m\u001b[0m_sanitize_column\u001b[0m\u001b[0;34m(\u001b[0m\u001b[0mkey\u001b[0m\u001b[0;34m,\u001b[0m \u001b[0mvalue\u001b[0m\u001b[0;34m)\u001b[0m\u001b[0;34m\u001b[0m\u001b[0;34m\u001b[0m\u001b[0m\n\u001b[0m\u001b[1;32m   3121\u001b[0m         \u001b[0mNDFrame\u001b[0m\u001b[0;34m.\u001b[0m\u001b[0m_set_item\u001b[0m\u001b[0;34m(\u001b[0m\u001b[0mself\u001b[0m\u001b[0;34m,\u001b[0m \u001b[0mkey\u001b[0m\u001b[0;34m,\u001b[0m \u001b[0mvalue\u001b[0m\u001b[0;34m)\u001b[0m\u001b[0;34m\u001b[0m\u001b[0;34m\u001b[0m\u001b[0m\n\u001b[1;32m   3122\u001b[0m \u001b[0;34m\u001b[0m\u001b[0m\n",
            "\u001b[0;32m/usr/local/lib/python3.7/dist-packages/pandas/core/frame.py\u001b[0m in \u001b[0;36m_sanitize_column\u001b[0;34m(self, key, value, broadcast)\u001b[0m\n\u001b[1;32m   3766\u001b[0m \u001b[0;34m\u001b[0m\u001b[0m\n\u001b[1;32m   3767\u001b[0m             \u001b[0;31m# turn me into an ndarray\u001b[0m\u001b[0;34m\u001b[0m\u001b[0;34m\u001b[0m\u001b[0;34m\u001b[0m\u001b[0m\n\u001b[0;32m-> 3768\u001b[0;31m             \u001b[0mvalue\u001b[0m \u001b[0;34m=\u001b[0m \u001b[0msanitize_index\u001b[0m\u001b[0;34m(\u001b[0m\u001b[0mvalue\u001b[0m\u001b[0;34m,\u001b[0m \u001b[0mself\u001b[0m\u001b[0;34m.\u001b[0m\u001b[0mindex\u001b[0m\u001b[0;34m)\u001b[0m\u001b[0;34m\u001b[0m\u001b[0;34m\u001b[0m\u001b[0m\n\u001b[0m\u001b[1;32m   3769\u001b[0m             \u001b[0;32mif\u001b[0m \u001b[0;32mnot\u001b[0m \u001b[0misinstance\u001b[0m\u001b[0;34m(\u001b[0m\u001b[0mvalue\u001b[0m\u001b[0;34m,\u001b[0m \u001b[0;34m(\u001b[0m\u001b[0mnp\u001b[0m\u001b[0;34m.\u001b[0m\u001b[0mndarray\u001b[0m\u001b[0;34m,\u001b[0m \u001b[0mIndex\u001b[0m\u001b[0;34m)\u001b[0m\u001b[0;34m)\u001b[0m\u001b[0;34m:\u001b[0m\u001b[0;34m\u001b[0m\u001b[0;34m\u001b[0m\u001b[0m\n\u001b[1;32m   3770\u001b[0m                 \u001b[0;32mif\u001b[0m \u001b[0misinstance\u001b[0m\u001b[0;34m(\u001b[0m\u001b[0mvalue\u001b[0m\u001b[0;34m,\u001b[0m \u001b[0mlist\u001b[0m\u001b[0;34m)\u001b[0m \u001b[0;32mand\u001b[0m \u001b[0mlen\u001b[0m\u001b[0;34m(\u001b[0m\u001b[0mvalue\u001b[0m\u001b[0;34m)\u001b[0m \u001b[0;34m>\u001b[0m \u001b[0;36m0\u001b[0m\u001b[0;34m:\u001b[0m\u001b[0;34m\u001b[0m\u001b[0;34m\u001b[0m\u001b[0m\n",
            "\u001b[0;32m/usr/local/lib/python3.7/dist-packages/pandas/core/internals/construction.py\u001b[0m in \u001b[0;36msanitize_index\u001b[0;34m(data, index)\u001b[0m\n\u001b[1;32m    746\u001b[0m     \u001b[0;32mif\u001b[0m \u001b[0mlen\u001b[0m\u001b[0;34m(\u001b[0m\u001b[0mdata\u001b[0m\u001b[0;34m)\u001b[0m \u001b[0;34m!=\u001b[0m \u001b[0mlen\u001b[0m\u001b[0;34m(\u001b[0m\u001b[0mindex\u001b[0m\u001b[0;34m)\u001b[0m\u001b[0;34m:\u001b[0m\u001b[0;34m\u001b[0m\u001b[0;34m\u001b[0m\u001b[0m\n\u001b[1;32m    747\u001b[0m         raise ValueError(\n\u001b[0;32m--> 748\u001b[0;31m             \u001b[0;34m\"Length of values \"\u001b[0m\u001b[0;34m\u001b[0m\u001b[0;34m\u001b[0m\u001b[0m\n\u001b[0m\u001b[1;32m    749\u001b[0m             \u001b[0;34mf\"({len(data)}) \"\u001b[0m\u001b[0;34m\u001b[0m\u001b[0;34m\u001b[0m\u001b[0m\n\u001b[1;32m    750\u001b[0m             \u001b[0;34m\"does not match length of index \"\u001b[0m\u001b[0;34m\u001b[0m\u001b[0;34m\u001b[0m\u001b[0m\n",
            "\u001b[0;31mValueError\u001b[0m: Length of values (7) does not match length of index (139)"
          ]
        }
      ]
    },
    {
      "cell_type": "code",
      "metadata": {
        "id": "JCMlea1Yf5Dz"
      },
      "source": [
        "'Strongly disagree [-3]'] = 1\n",
        "data_eng.COLOR_CODED_PROD_MO[data_eng.COLOR_CODED_PROD_MO == 'Disagree [-2]'] = 2\n",
        "data_eng.COLOR_CODED_PROD_MO[data_eng.COLOR_CODED_PROD_MO == 'Somewhat disagree [-1]'] = 3\n",
        "data_eng.COLOR_CODED_PROD_MO[data_eng.COLOR_CODED_PROD_MO == 'Neutral [0]'] = 4\n",
        "data_eng.COLOR_CODED_PROD_MO[data_eng.COLOR_CODED_PROD_MO == 'Somewhat agree [1]'] = 5\n",
        "data_eng.COLOR_CODED_PROD_MO[data_eng.COLOR_CODED_PROD_MO == 'Agree [2]'] = 6\n",
        "data_eng.COLOR_CODED_PROD_MO[data_eng.COLOR_CODED_PROD_MO == 'Strongly agree [3]'] = 7"
      ],
      "execution_count": null,
      "outputs": []
    },
    {
      "cell_type": "code",
      "metadata": {
        "id": "nNBRYWnvfMUG"
      },
      "source": [
        "rank, pVal = wilcoxon(data_eng.SCENT_T-medHyp)"
      ],
      "execution_count": null,
      "outputs": []
    }
  ]
}